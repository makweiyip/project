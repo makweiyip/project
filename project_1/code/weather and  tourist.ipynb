{
 "cells": [
  {
   "cell_type": "markdown",
   "metadata": {},
   "source": [
    "<img src=\"http://imgur.com/1ZcRyrc.png\" style=\"float: left; margin: 20px; height: 55px\">\n",
    "\n",
    "# Project 1: Data Analysis of Singapore Rainfall"
   ]
  },
  {
   "cell_type": "markdown",
   "metadata": {},
   "source": [
    "--- \n",
    "# Part 1\n",
    "\n",
    "Part 1 requires knowledge of basic Python.\n",
    "\n",
    "---"
   ]
  },
  {
   "cell_type": "markdown",
   "metadata": {},
   "source": [
    "### Contents:\n",
    "- [Background](#Background)\n",
    "- [Data Import & Cleaning](#Data-Import-and-Cleaning)\n",
    "- [Exploratory Data Analysis](#Exploratory-Data-Analysis)\n",
    "- [Data Visualization](#Visualize-the-Data)\n",
    "- [Conclusions and Recommendations](#Conclusions-and-Recommendations)"
   ]
  },
  {
   "cell_type": "markdown",
   "metadata": {},
   "source": [
    "## Background"
   ]
  },
  {
   "cell_type": "markdown",
   "metadata": {},
   "source": [
    "According to the [Meteorological Services Singapore](http://www.weather.gov.sg/climate-climate-of-singapore/#:~:text=Singapore%20is%20situated%20near%20the,month%2Dto%2Dmonth%20variation.), Singapore has typical tropical climate with adundant rainfall, high and uniform temperatures and high humidity all year round, since its situated near the equator. There are many factors that help us understand the climate of a country and in this project we are going to look into a few, especially rainfall.\n",
    "\n",
    "Singapore’s climate is characterised by two main monsoon seasons separated by inter-monsoonal periods.  The **Northeast Monsoon** occurs from December to early March, and the **Southwest Monsoon** from June to September.\n",
    "\n",
    "The major weather systems affecting Singapore that can lead to heavy rainfall are:\n",
    "\n",
    "-Monsoon surges, or strong wind episodes in the Northeast Monsoon flow bringing about major rainfall events;\n",
    "\n",
    "-Sumatra squalls, an organised line of thunderstorms travelling eastward across Singapore, having developed over the island of Sumatra or Straits of Malacca west of us;\n",
    "\n",
    "-Afternoon and evening thunderstorms caused by strong surface heating and by the sea breeze circulation that develops in the afternoon.\n",
    "\n",
    "Singapore’s climate station has been located at several different sites in the past 140 years. The station had been decommissioned at various points in the past due to changes to local land use in the site’s vicinity, and had to be relocated. Since 1984, the climate station has been located at **Changi**.\n",
    "\n",
    "There are other metrics of climate such as temperature, humidity, sun shine duration, wind speed, cloud cover etc. All the dataset used in the project comes from [data.gov.sg](data.gov.sg), as recorded at the Changi climate station \n"
   ]
  },
  {
   "cell_type": "markdown",
   "metadata": {},
   "source": [
    "### Choose your Data\n",
    "\n",
    "There are 2 datasets included in the [`data`](./data/) folder for this project. These correponds to rainfall information. \n",
    "\n",
    "* [`rainfall-monthly-number-of-rain-days.csv`](./data/rainfall-monthly-number-of-rain-days.csv): Monthly number of rain days from 1982 to 2022. A day is considered to have “rained” if the total rainfall for that day is 0.2mm or more.\n",
    "* [`rainfall-monthly-total.csv`](./data/rainfall-monthly-total.csv): Monthly total rain recorded in mm(millimeters) from 1982 to 2022\n",
    "\n",
    "Other relevant weather datasets from [data.gov.sg](data.gov.sg) that you can download and use are as follows:\n",
    "\n",
    "* [Relative Humidity](https://data.gov.sg/dataset/relative-humidity-monthly-mean)\n",
    "* [Monthly Maximum Daily Rainfall](https://data.gov.sg/dataset/rainfall-monthly-maximum-daily-total)\n",
    "* [Hourly wet buld temperature](https://data.gov.sg/dataset/wet-bulb-temperature-hourly)\n",
    "* [Monthly mean sunshine hours](https://data.gov.sg/dataset/sunshine-duration-monthly-mean-daily-duration)\n",
    "* [Surface Air Temperature](https://data.gov.sg/dataset/surface-air-temperature-mean-daily-minimum)\n",
    "\n",
    "You can also use other datasets for your analysis, make sure to cite the source when you are using them"
   ]
  },
  {
   "cell_type": "markdown",
   "metadata": {},
   "source": [
    "### Other data set\n",
    "* [tourist inbound](https://www.singstat.gov.sg/find-data/search-by-theme/industry/tourism/latest-data. )"
   ]
  },
  {
   "cell_type": "markdown",
   "metadata": {},
   "source": [
    "## Problem Statement"
   ]
  },
  {
   "cell_type": "markdown",
   "metadata": {},
   "source": [
    "I  am task to advice tourist to come to singapore to improve our tourist count as during covid year Singapore Tourism took a big hit. \n",
    "\n",
    "As weather in singapore are largely hot or rainy, tourist might not be familiar with local weather condition therefore might caught in bad weather condition which will disrupt their outdoor activities plan during the stay in Singapore. \n",
    "\n",
    "This project aims to analyse trends in Singapore weather and tourist inbound to identify when will be the best time for the tourist to visit singapore to enjoy outdoor activities. \n",
    "\n",
    "This analysis will help tourist to better plan travel period and itinerary better, bringing them a more pleasant experience during the stay in Singapore"
   ]
  },
  {
   "cell_type": "markdown",
   "metadata": {},
   "source": [
    "### Outside Research"
   ]
  },
  {
   "cell_type": "markdown",
   "metadata": {},
   "source": [
    "Singapore’s climate is characterised by two monsoon seasons separated by inter-monsoonal periods (see table below).  The Northeast Monsoon occurs from December to early March, and the Southwest Monsoon from June to September.The major weather systems affecting Singapore that can lead to heavy rainfall are:\n",
    "\n",
    "Monsoon surges, or strong wind episodes in the Northeast Monsoon flow bringing about major rainfall events;\n",
    "\n",
    "Sumatra squalls, an organised line of thunderstorms travelling eastward across Singapore, having developed over the island of Sumatra or Straits of Malacca west of us;\n",
    "\n",
    "Afternoon and evening thunderstorms caused by strong surface heating and by the sea breeze circulation that develops in the afternoon.`"
   ]
  },
  {
   "cell_type": "markdown",
   "metadata": {},
   "source": [
    "http://www.weather.gov.sg/climate-climate-of-singapore/"
   ]
  },
  {
   "cell_type": "markdown",
   "metadata": {},
   "source": [
    "SINGAPORE’S international visitor arrivals slipped in November to 816,254, slightly down from October’s 816,758 and breaking a nine-month growth streak, going by latest figures from Singapore Tourism Board (STB) on Tuesday (Dec 13).\n",
    "\n",
    "November’s tourist arrival numbers remain below the 1.5 million visitors recorded in November 2019, before the pandemic.\n",
    "\n",
    "But analysts agree that the slight fall was expected and reflective of historical trends.\n",
    "\n",
    "Looking forward to 2023, McConnell and Wong Xian Yang, head of research at Cushman & Wakefield, expect China’s relaxation of Covid restrictions to boost travel recovery. Wong said that international visitor arrivals could surprise on the upside and exceed 12 million."
   ]
  },
  {
   "cell_type": "markdown",
   "metadata": {},
   "source": [
    "https://www.businesstimes.com.sg/singapore/singapore-tourist-arrivals-dip-post-covid-record-816254-november"
   ]
  },
  {
   "cell_type": "markdown",
   "metadata": {},
   "source": [
    "### Coding Challenges\n",
    "\n",
    "1. Manually calculate mean:\n",
    "\n",
    "    Write a function that takes in values and returns the mean of the values. Create a list of numbers that you test on your function to check to make sure your function works!\n",
    "    \n",
    "    *Note*: Do not use any mean methods built-in to any Python libraries to do this! This should be done without importing any additional libraries."
   ]
  },
  {
   "cell_type": "code",
   "execution_count": 2,
   "metadata": {},
   "outputs": [
    {
     "data": {
      "text/plain": [
       "3.5833333333333335"
      ]
     },
     "execution_count": 2,
     "metadata": {},
     "output_type": "execute_result"
    }
   ],
   "source": [
    "# Code:\n",
    "list= [1.5,2,3,4,5,6]\n",
    "def cal_mean(item):\n",
    "    sum_of_item = sum(item)\n",
    "    mean_of_item = sum_of_item/len(item)\n",
    "    return mean_of_item\n",
    "        \n",
    "        \n",
    "cal_mean(list)        "
   ]
  },
  {
   "cell_type": "markdown",
   "metadata": {},
   "source": [
    "2. Manually calculate standard deviation:\n",
    "\n",
    "    The formula for standard deviation is below:\n",
    "\n",
    "    $$\\sigma = \\sqrt{\\frac{1}{n}\\sum_{i=1}^n(x_i - \\mu)^2}$$\n",
    "\n",
    "    Where $x_i$ represents each value in the dataset, $\\mu$ represents the mean of all values in the dataset and $n$ represents the number of values in the dataset.\n",
    "\n",
    "    Write a function that takes in values and returns the standard deviation of the values using the formula above. Hint: use the function you wrote above to calculate the mean! Use the list of numbers you created above to test on your function.\n",
    "    \n",
    "    *Note*: Do not use any standard deviation methods built-in to any Python libraries to do this! This should be done without importing any additional libraries."
   ]
  },
  {
   "cell_type": "code",
   "execution_count": 3,
   "metadata": {},
   "outputs": [
    {
     "data": {
      "text/plain": [
       "2.5298221281347035"
      ]
     },
     "execution_count": 3,
     "metadata": {},
     "output_type": "execute_result"
    }
   ],
   "source": [
    "# Code:\n",
    "list= [4,8,6,5,3,2,8,9,2,5]\n",
    "def sd(item ,ddof=0):\n",
    "    n = len(item)\n",
    "    u =cal_mean(item)\n",
    "    dev= [(x-u)**2 for x in item]\n",
    "    #print(dev)\n",
    "    var= sum(dev) /(n- ddof)\n",
    "    std_dev = var**(1/2)\n",
    "    return std_dev\n",
    "    print(var)\n",
    "    print(std_dev)\n",
    "        \n",
    "\n",
    "\n",
    "sd(list, ddof=1)\n"
   ]
  },
  {
   "cell_type": "code",
   "execution_count": 4,
   "metadata": {},
   "outputs": [],
   "source": [
    "import numpy as np\n",
    "import pandas as pd\n",
    "import matplotlib.pyplot as plt\n",
    "import seaborn as sns\n",
    "from sklearn.model_selection import train_test_split\n",
    "from sklearn.linear_model import LinearRegression"
   ]
  },
  {
   "cell_type": "markdown",
   "metadata": {},
   "source": [
    "--- \n",
    "# Part 2\n",
    "\n",
    "Part 2 requires knowledge of Pandas, EDA, data cleaning, and data visualization.\n",
    "\n",
    "---"
   ]
  },
  {
   "cell_type": "markdown",
   "metadata": {},
   "source": [
    "*All libraries used should be added here*"
   ]
  },
  {
   "cell_type": "code",
   "execution_count": 5,
   "metadata": {},
   "outputs": [],
   "source": [
    "# Imports:\n",
    "rainfall_number_of_rain_day = pd.read_csv('../data/rainfall-monthly-number-of-rain-days.csv')\n",
    "rainfall_monthly =pd.read_csv('../data/rainfall-monthly-total.csv')\n",
    "air_pd =pd.read_csv('../data/surface-air-temperature-monthly-mean.csv')\n",
    "tourist_inbound =pd.read_csv('../data/M550001.csv')"
   ]
  },
  {
   "cell_type": "markdown",
   "metadata": {},
   "source": [
    "## Data Import and Cleaning"
   ]
  },
  {
   "cell_type": "markdown",
   "metadata": {},
   "source": [
    "### Data Import & Cleaning\n",
    "\n",
    "Import all the datasets that you selected for this project and go through the following steps at a minimum. You are welcome to do further cleaning as you feel necessary. Make sure to comment your code to showcase the intent behind the data processing step.\n",
    "1. Display the data: print the first 5 rows of each dataframe to your Jupyter notebook.\n",
    "2. Check for missing values and datatype.\n",
    "3. Check for any obvious issues with the observations.\n",
    "4. Fix any errors you identified in steps 2-3.\n",
    "6. Fix any incorrect data types found in step 5.\n",
    "    - Fix any individual values preventing other columns from being the appropriate type.\n",
    "    - If the month column data is better analyzed as month and year, create new columns for the same\n",
    "7. Rename Columns.\n",
    "    - Column names should be all lowercase.\n",
    "    - Column names should not contain spaces (underscores will suffice--this allows for using the `df.column_name` method to access columns in addition to `df['column_name']`).\n",
    "    - Column names should be unique and informative.\n",
    "8. Drop unnecessary rows (if needed).\n",
    "9. Merge dataframes that can be merged.\n",
    "    - Since different climate metrics are in month format, you can merge them into one single dataframe for easier analysis\n",
    "10. Perform any additional cleaning that you feel is necessary.\n",
    "11. Save your cleaned and merged dataframes as csv files."
   ]
  },
  {
   "cell_type": "code",
   "execution_count": 6,
   "metadata": {},
   "outputs": [
    {
     "name": "stdout",
     "output_type": "stream",
     "text": [
      "<class 'pandas.core.frame.DataFrame'>\n",
      "RangeIndex: 488 entries, 0 to 487\n",
      "Data columns (total 2 columns):\n",
      " #   Column            Non-Null Count  Dtype \n",
      "---  ------            --------------  ----- \n",
      " 0   month             488 non-null    object\n",
      " 1   no_of_rainy_days  488 non-null    int64 \n",
      "dtypes: int64(1), object(1)\n",
      "memory usage: 7.8+ KB\n"
     ]
    }
   ],
   "source": [
    "# Code:\n",
    "rainfall_number_of_rain_day.head()\n",
    "rainfall_number_of_rain_day.info()"
   ]
  },
  {
   "cell_type": "code",
   "execution_count": 7,
   "metadata": {},
   "outputs": [],
   "source": [
    "# Code:\n",
    "rainfall_monthly['month']=pd.to_datetime(rainfall_monthly['month'])\n",
    "rainfall_number_of_rain_day['month']=pd.to_datetime(rainfall_monthly['month'])"
   ]
  },
  {
   "cell_type": "code",
   "execution_count": 8,
   "metadata": {},
   "outputs": [],
   "source": [
    "rainfall_number_of_rain_day['year'] = pd.DatetimeIndex(rainfall_number_of_rain_day['month']).year\n",
    "rainfall_number_of_rain_day['new_month'] = pd.DatetimeIndex(rainfall_number_of_rain_day['month']).month\n",
    "rainfall_monthly['year'] = pd.DatetimeIndex(rainfall_monthly['month']).year\n",
    "rainfall_monthly['new_month'] = pd.DatetimeIndex(rainfall_monthly['month']).month"
   ]
  },
  {
   "cell_type": "code",
   "execution_count": 9,
   "metadata": {},
   "outputs": [],
   "source": [
    "new_pd=pd.merge(rainfall_monthly,rainfall_number_of_rain_day, on= 'month' )"
   ]
  },
  {
   "cell_type": "code",
   "execution_count": 10,
   "metadata": {},
   "outputs": [
    {
     "data": {
      "text/html": [
       "<div>\n",
       "<style scoped>\n",
       "    .dataframe tbody tr th:only-of-type {\n",
       "        vertical-align: middle;\n",
       "    }\n",
       "\n",
       "    .dataframe tbody tr th {\n",
       "        vertical-align: top;\n",
       "    }\n",
       "\n",
       "    .dataframe thead th {\n",
       "        text-align: right;\n",
       "    }\n",
       "</style>\n",
       "<table border=\"1\" class=\"dataframe\">\n",
       "  <thead>\n",
       "    <tr style=\"text-align: right;\">\n",
       "      <th></th>\n",
       "      <th>month</th>\n",
       "      <th>total_rainfall</th>\n",
       "      <th>year_x</th>\n",
       "      <th>new_month_x</th>\n",
       "      <th>no_of_rainy_days</th>\n",
       "      <th>year</th>\n",
       "      <th>month_of_year</th>\n",
       "    </tr>\n",
       "  </thead>\n",
       "  <tbody>\n",
       "    <tr>\n",
       "      <th>0</th>\n",
       "      <td>1982-01-01</td>\n",
       "      <td>107.1</td>\n",
       "      <td>1982</td>\n",
       "      <td>1</td>\n",
       "      <td>10</td>\n",
       "      <td>1982</td>\n",
       "      <td>1</td>\n",
       "    </tr>\n",
       "    <tr>\n",
       "      <th>1</th>\n",
       "      <td>1982-02-01</td>\n",
       "      <td>27.8</td>\n",
       "      <td>1982</td>\n",
       "      <td>2</td>\n",
       "      <td>5</td>\n",
       "      <td>1982</td>\n",
       "      <td>2</td>\n",
       "    </tr>\n",
       "    <tr>\n",
       "      <th>2</th>\n",
       "      <td>1982-03-01</td>\n",
       "      <td>160.8</td>\n",
       "      <td>1982</td>\n",
       "      <td>3</td>\n",
       "      <td>11</td>\n",
       "      <td>1982</td>\n",
       "      <td>3</td>\n",
       "    </tr>\n",
       "    <tr>\n",
       "      <th>3</th>\n",
       "      <td>1982-04-01</td>\n",
       "      <td>157.0</td>\n",
       "      <td>1982</td>\n",
       "      <td>4</td>\n",
       "      <td>14</td>\n",
       "      <td>1982</td>\n",
       "      <td>4</td>\n",
       "    </tr>\n",
       "    <tr>\n",
       "      <th>4</th>\n",
       "      <td>1982-05-01</td>\n",
       "      <td>102.2</td>\n",
       "      <td>1982</td>\n",
       "      <td>5</td>\n",
       "      <td>10</td>\n",
       "      <td>1982</td>\n",
       "      <td>5</td>\n",
       "    </tr>\n",
       "    <tr>\n",
       "      <th>...</th>\n",
       "      <td>...</td>\n",
       "      <td>...</td>\n",
       "      <td>...</td>\n",
       "      <td>...</td>\n",
       "      <td>...</td>\n",
       "      <td>...</td>\n",
       "      <td>...</td>\n",
       "    </tr>\n",
       "    <tr>\n",
       "      <th>483</th>\n",
       "      <td>2022-04-01</td>\n",
       "      <td>239.6</td>\n",
       "      <td>2022</td>\n",
       "      <td>4</td>\n",
       "      <td>18</td>\n",
       "      <td>2022</td>\n",
       "      <td>4</td>\n",
       "    </tr>\n",
       "    <tr>\n",
       "      <th>484</th>\n",
       "      <td>2022-05-01</td>\n",
       "      <td>102.0</td>\n",
       "      <td>2022</td>\n",
       "      <td>5</td>\n",
       "      <td>12</td>\n",
       "      <td>2022</td>\n",
       "      <td>5</td>\n",
       "    </tr>\n",
       "    <tr>\n",
       "      <th>485</th>\n",
       "      <td>2022-06-01</td>\n",
       "      <td>211.8</td>\n",
       "      <td>2022</td>\n",
       "      <td>6</td>\n",
       "      <td>17</td>\n",
       "      <td>2022</td>\n",
       "      <td>6</td>\n",
       "    </tr>\n",
       "    <tr>\n",
       "      <th>486</th>\n",
       "      <td>2022-07-01</td>\n",
       "      <td>145.2</td>\n",
       "      <td>2022</td>\n",
       "      <td>7</td>\n",
       "      <td>16</td>\n",
       "      <td>2022</td>\n",
       "      <td>7</td>\n",
       "    </tr>\n",
       "    <tr>\n",
       "      <th>487</th>\n",
       "      <td>2022-08-01</td>\n",
       "      <td>141.4</td>\n",
       "      <td>2022</td>\n",
       "      <td>8</td>\n",
       "      <td>15</td>\n",
       "      <td>2022</td>\n",
       "      <td>8</td>\n",
       "    </tr>\n",
       "  </tbody>\n",
       "</table>\n",
       "<p>488 rows × 7 columns</p>\n",
       "</div>"
      ],
      "text/plain": [
       "         month  total_rainfall  year_x  new_month_x  no_of_rainy_days  year  \\\n",
       "0   1982-01-01           107.1    1982            1                10  1982   \n",
       "1   1982-02-01            27.8    1982            2                 5  1982   \n",
       "2   1982-03-01           160.8    1982            3                11  1982   \n",
       "3   1982-04-01           157.0    1982            4                14  1982   \n",
       "4   1982-05-01           102.2    1982            5                10  1982   \n",
       "..         ...             ...     ...          ...               ...   ...   \n",
       "483 2022-04-01           239.6    2022            4                18  2022   \n",
       "484 2022-05-01           102.0    2022            5                12  2022   \n",
       "485 2022-06-01           211.8    2022            6                17  2022   \n",
       "486 2022-07-01           145.2    2022            7                16  2022   \n",
       "487 2022-08-01           141.4    2022            8                15  2022   \n",
       "\n",
       "     month_of_year  \n",
       "0                1  \n",
       "1                2  \n",
       "2                3  \n",
       "3                4  \n",
       "4                5  \n",
       "..             ...  \n",
       "483              4  \n",
       "484              5  \n",
       "485              6  \n",
       "486              7  \n",
       "487              8  \n",
       "\n",
       "[488 rows x 7 columns]"
      ]
     },
     "execution_count": 10,
     "metadata": {},
     "output_type": "execute_result"
    }
   ],
   "source": [
    "new_pd.rename(columns={'year_y':'year','new_month_y':'month_of_year'}, inplace=True)\n",
    "new_pd"
   ]
  },
  {
   "cell_type": "code",
   "execution_count": 11,
   "metadata": {},
   "outputs": [],
   "source": [
    "new_pd.drop(columns=['year_x','new_month_x', 'month'], inplace=True)"
   ]
  },
  {
   "cell_type": "code",
   "execution_count": 12,
   "metadata": {},
   "outputs": [],
   "source": [
    "tourist_inbound = tourist_inbound.drop([tourist_inbound.index[0]])"
   ]
  },
  {
   "cell_type": "code",
   "execution_count": 13,
   "metadata": {},
   "outputs": [
    {
     "data": {
      "text/html": [
       "<div>\n",
       "<style scoped>\n",
       "    .dataframe tbody tr th:only-of-type {\n",
       "        vertical-align: middle;\n",
       "    }\n",
       "\n",
       "    .dataframe tbody tr th {\n",
       "        vertical-align: top;\n",
       "    }\n",
       "\n",
       "    .dataframe thead th {\n",
       "        text-align: right;\n",
       "    }\n",
       "</style>\n",
       "<table border=\"1\" class=\"dataframe\">\n",
       "  <thead>\n",
       "    <tr style=\"text-align: right;\">\n",
       "      <th></th>\n",
       "      <th>Unnamed: 0</th>\n",
       "      <th>Unnamed: 1</th>\n",
       "      <th>Unnamed: 2</th>\n",
       "      <th>Unnamed: 3</th>\n",
       "      <th>Unnamed: 4</th>\n",
       "      <th>Unnamed: 5</th>\n",
       "      <th>Unnamed: 6</th>\n",
       "      <th>Unnamed: 7</th>\n",
       "      <th>Unnamed: 8</th>\n",
       "      <th>Unnamed: 9</th>\n",
       "      <th>...</th>\n",
       "      <th>Unnamed: 529</th>\n",
       "      <th>Unnamed: 530</th>\n",
       "      <th>Unnamed: 531</th>\n",
       "      <th>Unnamed: 532</th>\n",
       "      <th>Unnamed: 533</th>\n",
       "      <th>Unnamed: 534</th>\n",
       "      <th>Unnamed: 535</th>\n",
       "      <th>Unnamed: 536</th>\n",
       "      <th>Unnamed: 537</th>\n",
       "      <th>Unnamed: 538</th>\n",
       "    </tr>\n",
       "  </thead>\n",
       "  <tbody>\n",
       "    <tr>\n",
       "      <th>1</th>\n",
       "      <td>Subject: Tourism</td>\n",
       "      <td>NaN</td>\n",
       "      <td>NaN</td>\n",
       "      <td>NaN</td>\n",
       "      <td>NaN</td>\n",
       "      <td>NaN</td>\n",
       "      <td>NaN</td>\n",
       "      <td>NaN</td>\n",
       "      <td>NaN</td>\n",
       "      <td>NaN</td>\n",
       "      <td>...</td>\n",
       "      <td>NaN</td>\n",
       "      <td>NaN</td>\n",
       "      <td>NaN</td>\n",
       "      <td>NaN</td>\n",
       "      <td>NaN</td>\n",
       "      <td>NaN</td>\n",
       "      <td>NaN</td>\n",
       "      <td>NaN</td>\n",
       "      <td>NaN</td>\n",
       "      <td>NaN</td>\n",
       "    </tr>\n",
       "    <tr>\n",
       "      <th>2</th>\n",
       "      <td>Topic: International Visitor Arrivals (IVA)</td>\n",
       "      <td>NaN</td>\n",
       "      <td>NaN</td>\n",
       "      <td>NaN</td>\n",
       "      <td>NaN</td>\n",
       "      <td>NaN</td>\n",
       "      <td>NaN</td>\n",
       "      <td>NaN</td>\n",
       "      <td>NaN</td>\n",
       "      <td>NaN</td>\n",
       "      <td>...</td>\n",
       "      <td>NaN</td>\n",
       "      <td>NaN</td>\n",
       "      <td>NaN</td>\n",
       "      <td>NaN</td>\n",
       "      <td>NaN</td>\n",
       "      <td>NaN</td>\n",
       "      <td>NaN</td>\n",
       "      <td>NaN</td>\n",
       "      <td>NaN</td>\n",
       "      <td>NaN</td>\n",
       "    </tr>\n",
       "    <tr>\n",
       "      <th>3</th>\n",
       "      <td>Table Title: International Visitor Arrivals By...</td>\n",
       "      <td>NaN</td>\n",
       "      <td>NaN</td>\n",
       "      <td>NaN</td>\n",
       "      <td>NaN</td>\n",
       "      <td>NaN</td>\n",
       "      <td>NaN</td>\n",
       "      <td>NaN</td>\n",
       "      <td>NaN</td>\n",
       "      <td>NaN</td>\n",
       "      <td>...</td>\n",
       "      <td>NaN</td>\n",
       "      <td>NaN</td>\n",
       "      <td>NaN</td>\n",
       "      <td>NaN</td>\n",
       "      <td>NaN</td>\n",
       "      <td>NaN</td>\n",
       "      <td>NaN</td>\n",
       "      <td>NaN</td>\n",
       "      <td>NaN</td>\n",
       "      <td>NaN</td>\n",
       "    </tr>\n",
       "    <tr>\n",
       "      <th>4</th>\n",
       "      <td>NaN</td>\n",
       "      <td>NaN</td>\n",
       "      <td>NaN</td>\n",
       "      <td>NaN</td>\n",
       "      <td>NaN</td>\n",
       "      <td>NaN</td>\n",
       "      <td>NaN</td>\n",
       "      <td>NaN</td>\n",
       "      <td>NaN</td>\n",
       "      <td>NaN</td>\n",
       "      <td>...</td>\n",
       "      <td>NaN</td>\n",
       "      <td>NaN</td>\n",
       "      <td>NaN</td>\n",
       "      <td>NaN</td>\n",
       "      <td>NaN</td>\n",
       "      <td>NaN</td>\n",
       "      <td>NaN</td>\n",
       "      <td>NaN</td>\n",
       "      <td>NaN</td>\n",
       "      <td>NaN</td>\n",
       "    </tr>\n",
       "    <tr>\n",
       "      <th>5</th>\n",
       "      <td>Data last updated: 01/12/2022</td>\n",
       "      <td>NaN</td>\n",
       "      <td>NaN</td>\n",
       "      <td>NaN</td>\n",
       "      <td>NaN</td>\n",
       "      <td>NaN</td>\n",
       "      <td>NaN</td>\n",
       "      <td>NaN</td>\n",
       "      <td>NaN</td>\n",
       "      <td>NaN</td>\n",
       "      <td>...</td>\n",
       "      <td>NaN</td>\n",
       "      <td>NaN</td>\n",
       "      <td>NaN</td>\n",
       "      <td>NaN</td>\n",
       "      <td>NaN</td>\n",
       "      <td>NaN</td>\n",
       "      <td>NaN</td>\n",
       "      <td>NaN</td>\n",
       "      <td>NaN</td>\n",
       "      <td>NaN</td>\n",
       "    </tr>\n",
       "    <tr>\n",
       "      <th>6</th>\n",
       "      <td>Source: SINGAPORE TOURISM BOARD</td>\n",
       "      <td>NaN</td>\n",
       "      <td>NaN</td>\n",
       "      <td>NaN</td>\n",
       "      <td>NaN</td>\n",
       "      <td>NaN</td>\n",
       "      <td>NaN</td>\n",
       "      <td>NaN</td>\n",
       "      <td>NaN</td>\n",
       "      <td>NaN</td>\n",
       "      <td>...</td>\n",
       "      <td>NaN</td>\n",
       "      <td>NaN</td>\n",
       "      <td>NaN</td>\n",
       "      <td>NaN</td>\n",
       "      <td>NaN</td>\n",
       "      <td>NaN</td>\n",
       "      <td>NaN</td>\n",
       "      <td>NaN</td>\n",
       "      <td>NaN</td>\n",
       "      <td>NaN</td>\n",
       "    </tr>\n",
       "    <tr>\n",
       "      <th>7</th>\n",
       "      <td>NaN</td>\n",
       "      <td>NaN</td>\n",
       "      <td>NaN</td>\n",
       "      <td>NaN</td>\n",
       "      <td>NaN</td>\n",
       "      <td>NaN</td>\n",
       "      <td>NaN</td>\n",
       "      <td>NaN</td>\n",
       "      <td>NaN</td>\n",
       "      <td>NaN</td>\n",
       "      <td>...</td>\n",
       "      <td>NaN</td>\n",
       "      <td>NaN</td>\n",
       "      <td>NaN</td>\n",
       "      <td>NaN</td>\n",
       "      <td>NaN</td>\n",
       "      <td>NaN</td>\n",
       "      <td>NaN</td>\n",
       "      <td>NaN</td>\n",
       "      <td>NaN</td>\n",
       "      <td>NaN</td>\n",
       "    </tr>\n",
       "    <tr>\n",
       "      <th>8</th>\n",
       "      <td>NaN</td>\n",
       "      <td>NaN</td>\n",
       "      <td>NaN</td>\n",
       "      <td>NaN</td>\n",
       "      <td>NaN</td>\n",
       "      <td>NaN</td>\n",
       "      <td>NaN</td>\n",
       "      <td>NaN</td>\n",
       "      <td>NaN</td>\n",
       "      <td>NaN</td>\n",
       "      <td>...</td>\n",
       "      <td>NaN</td>\n",
       "      <td>NaN</td>\n",
       "      <td>NaN</td>\n",
       "      <td>NaN</td>\n",
       "      <td>NaN</td>\n",
       "      <td>NaN</td>\n",
       "      <td>NaN</td>\n",
       "      <td>NaN</td>\n",
       "      <td>NaN</td>\n",
       "      <td>Number</td>\n",
       "    </tr>\n",
       "    <tr>\n",
       "      <th>9</th>\n",
       "      <td>Data Series</td>\n",
       "      <td>2022 Oct</td>\n",
       "      <td>2022 Sep</td>\n",
       "      <td>2022 Aug</td>\n",
       "      <td>2022 Jul</td>\n",
       "      <td>2022 Jun</td>\n",
       "      <td>2022 May</td>\n",
       "      <td>2022 Apr</td>\n",
       "      <td>2022 Mar</td>\n",
       "      <td>2022 Feb</td>\n",
       "      <td>...</td>\n",
       "      <td>1978 Oct</td>\n",
       "      <td>1978 Sep</td>\n",
       "      <td>1978 Aug</td>\n",
       "      <td>1978 Jul</td>\n",
       "      <td>1978 Jun</td>\n",
       "      <td>1978 May</td>\n",
       "      <td>1978 Apr</td>\n",
       "      <td>1978 Mar</td>\n",
       "      <td>1978 Feb</td>\n",
       "      <td>1978 Jan</td>\n",
       "    </tr>\n",
       "    <tr>\n",
       "      <th>10</th>\n",
       "      <td>Total International Visitor Arrivals By Inboun...</td>\n",
       "      <td>816758</td>\n",
       "      <td>782076</td>\n",
       "      <td>728744</td>\n",
       "      <td>726624</td>\n",
       "      <td>543733</td>\n",
       "      <td>418458</td>\n",
       "      <td>295095</td>\n",
       "      <td>121207</td>\n",
       "      <td>67764</td>\n",
       "      <td>...</td>\n",
       "      <td>177639</td>\n",
       "      <td>167980</td>\n",
       "      <td>201355</td>\n",
       "      <td>175968</td>\n",
       "      <td>149896</td>\n",
       "      <td>162667</td>\n",
       "      <td>162400</td>\n",
       "      <td>163199</td>\n",
       "      <td>147954</td>\n",
       "      <td>167016</td>\n",
       "    </tr>\n",
       "    <tr>\n",
       "      <th>11</th>\n",
       "      <td>Southeast Asia</td>\n",
       "      <td>374913</td>\n",
       "      <td>340345</td>\n",
       "      <td>315820</td>\n",
       "      <td>332128</td>\n",
       "      <td>269088</td>\n",
       "      <td>204656</td>\n",
       "      <td>137294</td>\n",
       "      <td>41170</td>\n",
       "      <td>18759</td>\n",
       "      <td>...</td>\n",
       "      <td>71707</td>\n",
       "      <td>75304</td>\n",
       "      <td>82899</td>\n",
       "      <td>73672</td>\n",
       "      <td>67746</td>\n",
       "      <td>68036</td>\n",
       "      <td>73782</td>\n",
       "      <td>63299</td>\n",
       "      <td>57650</td>\n",
       "      <td>64500</td>\n",
       "    </tr>\n",
       "    <tr>\n",
       "      <th>12</th>\n",
       "      <td>Brunei Darussalam</td>\n",
       "      <td>3733</td>\n",
       "      <td>3809</td>\n",
       "      <td>3426</td>\n",
       "      <td>3238</td>\n",
       "      <td>2202</td>\n",
       "      <td>2271</td>\n",
       "      <td>807</td>\n",
       "      <td>280</td>\n",
       "      <td>163</td>\n",
       "      <td>...</td>\n",
       "      <td>na</td>\n",
       "      <td>na</td>\n",
       "      <td>na</td>\n",
       "      <td>na</td>\n",
       "      <td>na</td>\n",
       "      <td>na</td>\n",
       "      <td>na</td>\n",
       "      <td>na</td>\n",
       "      <td>na</td>\n",
       "      <td>na</td>\n",
       "    </tr>\n",
       "    <tr>\n",
       "      <th>13</th>\n",
       "      <td>Indonesia</td>\n",
       "      <td>133408</td>\n",
       "      <td>120165</td>\n",
       "      <td>108252</td>\n",
       "      <td>119086</td>\n",
       "      <td>110094</td>\n",
       "      <td>86745</td>\n",
       "      <td>58330</td>\n",
       "      <td>13622</td>\n",
       "      <td>6872</td>\n",
       "      <td>...</td>\n",
       "      <td>na</td>\n",
       "      <td>na</td>\n",
       "      <td>na</td>\n",
       "      <td>na</td>\n",
       "      <td>na</td>\n",
       "      <td>na</td>\n",
       "      <td>na</td>\n",
       "      <td>na</td>\n",
       "      <td>na</td>\n",
       "      <td>na</td>\n",
       "    </tr>\n",
       "    <tr>\n",
       "      <th>14</th>\n",
       "      <td>Malaysia</td>\n",
       "      <td>77088</td>\n",
       "      <td>81914</td>\n",
       "      <td>63905</td>\n",
       "      <td>61572</td>\n",
       "      <td>49878</td>\n",
       "      <td>43214</td>\n",
       "      <td>25319</td>\n",
       "      <td>10610</td>\n",
       "      <td>4467</td>\n",
       "      <td>...</td>\n",
       "      <td>na</td>\n",
       "      <td>na</td>\n",
       "      <td>na</td>\n",
       "      <td>na</td>\n",
       "      <td>na</td>\n",
       "      <td>na</td>\n",
       "      <td>na</td>\n",
       "      <td>na</td>\n",
       "      <td>na</td>\n",
       "      <td>na</td>\n",
       "    </tr>\n",
       "    <tr>\n",
       "      <th>15</th>\n",
       "      <td>Myanmar</td>\n",
       "      <td>9078</td>\n",
       "      <td>8340</td>\n",
       "      <td>8594</td>\n",
       "      <td>10398</td>\n",
       "      <td>9095</td>\n",
       "      <td>6218</td>\n",
       "      <td>5474</td>\n",
       "      <td>3516</td>\n",
       "      <td>2024</td>\n",
       "      <td>...</td>\n",
       "      <td>na</td>\n",
       "      <td>na</td>\n",
       "      <td>na</td>\n",
       "      <td>na</td>\n",
       "      <td>na</td>\n",
       "      <td>na</td>\n",
       "      <td>na</td>\n",
       "      <td>na</td>\n",
       "      <td>na</td>\n",
       "      <td>na</td>\n",
       "    </tr>\n",
       "    <tr>\n",
       "      <th>16</th>\n",
       "      <td>Philippines</td>\n",
       "      <td>56746</td>\n",
       "      <td>44856</td>\n",
       "      <td>42542</td>\n",
       "      <td>45337</td>\n",
       "      <td>32139</td>\n",
       "      <td>22379</td>\n",
       "      <td>16940</td>\n",
       "      <td>6250</td>\n",
       "      <td>2026</td>\n",
       "      <td>...</td>\n",
       "      <td>na</td>\n",
       "      <td>na</td>\n",
       "      <td>na</td>\n",
       "      <td>na</td>\n",
       "      <td>na</td>\n",
       "      <td>na</td>\n",
       "      <td>na</td>\n",
       "      <td>na</td>\n",
       "      <td>na</td>\n",
       "      <td>na</td>\n",
       "    </tr>\n",
       "    <tr>\n",
       "      <th>17</th>\n",
       "      <td>Thailand</td>\n",
       "      <td>52269</td>\n",
       "      <td>32415</td>\n",
       "      <td>33284</td>\n",
       "      <td>36593</td>\n",
       "      <td>23406</td>\n",
       "      <td>18487</td>\n",
       "      <td>10647</td>\n",
       "      <td>3038</td>\n",
       "      <td>1622</td>\n",
       "      <td>...</td>\n",
       "      <td>na</td>\n",
       "      <td>na</td>\n",
       "      <td>na</td>\n",
       "      <td>na</td>\n",
       "      <td>na</td>\n",
       "      <td>na</td>\n",
       "      <td>na</td>\n",
       "      <td>na</td>\n",
       "      <td>na</td>\n",
       "      <td>na</td>\n",
       "    </tr>\n",
       "    <tr>\n",
       "      <th>18</th>\n",
       "      <td>Vietnam</td>\n",
       "      <td>36241</td>\n",
       "      <td>41127</td>\n",
       "      <td>48939</td>\n",
       "      <td>48869</td>\n",
       "      <td>36857</td>\n",
       "      <td>21570</td>\n",
       "      <td>16657</td>\n",
       "      <td>2932</td>\n",
       "      <td>1055</td>\n",
       "      <td>...</td>\n",
       "      <td>na</td>\n",
       "      <td>na</td>\n",
       "      <td>na</td>\n",
       "      <td>na</td>\n",
       "      <td>na</td>\n",
       "      <td>na</td>\n",
       "      <td>na</td>\n",
       "      <td>na</td>\n",
       "      <td>na</td>\n",
       "      <td>na</td>\n",
       "    </tr>\n",
       "    <tr>\n",
       "      <th>19</th>\n",
       "      <td>Other Markets In Southeast Asia</td>\n",
       "      <td>6350</td>\n",
       "      <td>7719</td>\n",
       "      <td>6878</td>\n",
       "      <td>7035</td>\n",
       "      <td>5417</td>\n",
       "      <td>3772</td>\n",
       "      <td>3120</td>\n",
       "      <td>922</td>\n",
       "      <td>530</td>\n",
       "      <td>...</td>\n",
       "      <td>na</td>\n",
       "      <td>na</td>\n",
       "      <td>na</td>\n",
       "      <td>na</td>\n",
       "      <td>na</td>\n",
       "      <td>na</td>\n",
       "      <td>na</td>\n",
       "      <td>na</td>\n",
       "      <td>na</td>\n",
       "      <td>na</td>\n",
       "    </tr>\n",
       "    <tr>\n",
       "      <th>20</th>\n",
       "      <td>Greater China</td>\n",
       "      <td>42408</td>\n",
       "      <td>36662</td>\n",
       "      <td>33996</td>\n",
       "      <td>35485</td>\n",
       "      <td>23566</td>\n",
       "      <td>17723</td>\n",
       "      <td>13729</td>\n",
       "      <td>8563</td>\n",
       "      <td>6177</td>\n",
       "      <td>...</td>\n",
       "      <td>na</td>\n",
       "      <td>na</td>\n",
       "      <td>na</td>\n",
       "      <td>na</td>\n",
       "      <td>na</td>\n",
       "      <td>na</td>\n",
       "      <td>na</td>\n",
       "      <td>na</td>\n",
       "      <td>na</td>\n",
       "      <td>na</td>\n",
       "    </tr>\n",
       "  </tbody>\n",
       "</table>\n",
       "<p>20 rows × 539 columns</p>\n",
       "</div>"
      ],
      "text/plain": [
       "                                           Unnamed: 0 Unnamed: 1 Unnamed: 2  \\\n",
       "1                                    Subject: Tourism        NaN        NaN   \n",
       "2         Topic: International Visitor Arrivals (IVA)        NaN        NaN   \n",
       "3   Table Title: International Visitor Arrivals By...        NaN        NaN   \n",
       "4                                                 NaN        NaN        NaN   \n",
       "5                       Data last updated: 01/12/2022        NaN        NaN   \n",
       "6                     Source: SINGAPORE TOURISM BOARD        NaN        NaN   \n",
       "7                                                 NaN        NaN        NaN   \n",
       "8                                                 NaN        NaN        NaN   \n",
       "9                                         Data Series  2022 Oct   2022 Sep    \n",
       "10  Total International Visitor Arrivals By Inboun...     816758     782076   \n",
       "11                                     Southeast Asia     374913     340345   \n",
       "12                                  Brunei Darussalam       3733       3809   \n",
       "13                                          Indonesia     133408     120165   \n",
       "14                                           Malaysia      77088      81914   \n",
       "15                                            Myanmar       9078       8340   \n",
       "16                                        Philippines      56746      44856   \n",
       "17                                           Thailand      52269      32415   \n",
       "18                                            Vietnam      36241      41127   \n",
       "19                    Other Markets In Southeast Asia       6350       7719   \n",
       "20                                      Greater China      42408      36662   \n",
       "\n",
       "   Unnamed: 3 Unnamed: 4 Unnamed: 5 Unnamed: 6 Unnamed: 7 Unnamed: 8  \\\n",
       "1         NaN        NaN        NaN        NaN        NaN        NaN   \n",
       "2         NaN        NaN        NaN        NaN        NaN        NaN   \n",
       "3         NaN        NaN        NaN        NaN        NaN        NaN   \n",
       "4         NaN        NaN        NaN        NaN        NaN        NaN   \n",
       "5         NaN        NaN        NaN        NaN        NaN        NaN   \n",
       "6         NaN        NaN        NaN        NaN        NaN        NaN   \n",
       "7         NaN        NaN        NaN        NaN        NaN        NaN   \n",
       "8         NaN        NaN        NaN        NaN        NaN        NaN   \n",
       "9   2022 Aug   2022 Jul   2022 Jun   2022 May   2022 Apr   2022 Mar    \n",
       "10     728744     726624     543733     418458     295095     121207   \n",
       "11     315820     332128     269088     204656     137294      41170   \n",
       "12       3426       3238       2202       2271        807        280   \n",
       "13     108252     119086     110094      86745      58330      13622   \n",
       "14      63905      61572      49878      43214      25319      10610   \n",
       "15       8594      10398       9095       6218       5474       3516   \n",
       "16      42542      45337      32139      22379      16940       6250   \n",
       "17      33284      36593      23406      18487      10647       3038   \n",
       "18      48939      48869      36857      21570      16657       2932   \n",
       "19       6878       7035       5417       3772       3120        922   \n",
       "20      33996      35485      23566      17723      13729       8563   \n",
       "\n",
       "   Unnamed: 9  ... Unnamed: 529 Unnamed: 530 Unnamed: 531 Unnamed: 532  \\\n",
       "1         NaN  ...          NaN          NaN          NaN          NaN   \n",
       "2         NaN  ...          NaN          NaN          NaN          NaN   \n",
       "3         NaN  ...          NaN          NaN          NaN          NaN   \n",
       "4         NaN  ...          NaN          NaN          NaN          NaN   \n",
       "5         NaN  ...          NaN          NaN          NaN          NaN   \n",
       "6         NaN  ...          NaN          NaN          NaN          NaN   \n",
       "7         NaN  ...          NaN          NaN          NaN          NaN   \n",
       "8         NaN  ...          NaN          NaN          NaN          NaN   \n",
       "9   2022 Feb   ...    1978 Oct     1978 Sep     1978 Aug     1978 Jul    \n",
       "10      67764  ...       177639       167980       201355       175968   \n",
       "11      18759  ...        71707        75304        82899        73672   \n",
       "12        163  ...           na           na           na           na   \n",
       "13       6872  ...           na           na           na           na   \n",
       "14       4467  ...           na           na           na           na   \n",
       "15       2024  ...           na           na           na           na   \n",
       "16       2026  ...           na           na           na           na   \n",
       "17       1622  ...           na           na           na           na   \n",
       "18       1055  ...           na           na           na           na   \n",
       "19        530  ...           na           na           na           na   \n",
       "20       6177  ...           na           na           na           na   \n",
       "\n",
       "   Unnamed: 533 Unnamed: 534 Unnamed: 535 Unnamed: 536 Unnamed: 537  \\\n",
       "1           NaN          NaN          NaN          NaN          NaN   \n",
       "2           NaN          NaN          NaN          NaN          NaN   \n",
       "3           NaN          NaN          NaN          NaN          NaN   \n",
       "4           NaN          NaN          NaN          NaN          NaN   \n",
       "5           NaN          NaN          NaN          NaN          NaN   \n",
       "6           NaN          NaN          NaN          NaN          NaN   \n",
       "7           NaN          NaN          NaN          NaN          NaN   \n",
       "8           NaN          NaN          NaN          NaN          NaN   \n",
       "9     1978 Jun     1978 May     1978 Apr     1978 Mar     1978 Feb    \n",
       "10       149896       162667       162400       163199       147954   \n",
       "11        67746        68036        73782        63299        57650   \n",
       "12           na           na           na           na           na   \n",
       "13           na           na           na           na           na   \n",
       "14           na           na           na           na           na   \n",
       "15           na           na           na           na           na   \n",
       "16           na           na           na           na           na   \n",
       "17           na           na           na           na           na   \n",
       "18           na           na           na           na           na   \n",
       "19           na           na           na           na           na   \n",
       "20           na           na           na           na           na   \n",
       "\n",
       "   Unnamed: 538  \n",
       "1           NaN  \n",
       "2           NaN  \n",
       "3           NaN  \n",
       "4           NaN  \n",
       "5           NaN  \n",
       "6           NaN  \n",
       "7           NaN  \n",
       "8        Number  \n",
       "9     1978 Jan   \n",
       "10       167016  \n",
       "11        64500  \n",
       "12           na  \n",
       "13           na  \n",
       "14           na  \n",
       "15           na  \n",
       "16           na  \n",
       "17           na  \n",
       "18           na  \n",
       "19           na  \n",
       "20           na  \n",
       "\n",
       "[20 rows x 539 columns]"
      ]
     },
     "execution_count": 13,
     "metadata": {},
     "output_type": "execute_result"
    }
   ],
   "source": [
    "tourist_inbound.head(20)"
   ]
  },
  {
   "cell_type": "code",
   "execution_count": 14,
   "metadata": {},
   "outputs": [],
   "source": [
    "tourist_inbound.head(15)\n",
    "new= tourist_inbound.T"
   ]
  },
  {
   "cell_type": "code",
   "execution_count": 15,
   "metadata": {},
   "outputs": [],
   "source": [
    "date_tourist_inbound =new.iloc[:,8:10]"
   ]
  },
  {
   "cell_type": "code",
   "execution_count": 16,
   "metadata": {},
   "outputs": [
    {
     "name": "stderr",
     "output_type": "stream",
     "text": [
      "/var/folders/9h/g66bx9554bn3vx164q9t1k3m0000gp/T/ipykernel_54929/3257716329.py:1: SettingWithCopyWarning: \n",
      "A value is trying to be set on a copy of a slice from a DataFrame\n",
      "\n",
      "See the caveats in the documentation: https://pandas.pydata.org/pandas-docs/stable/user_guide/indexing.html#returning-a-view-versus-a-copy\n",
      "  date_tourist_inbound.rename({9: 'date', 10: 'total_visitor_inbound'}, axis=1, inplace=True)\n"
     ]
    }
   ],
   "source": [
    "date_tourist_inbound.rename({9: 'date', 10: 'total_visitor_inbound'}, axis=1, inplace=True)\n",
    "#date_tourist_inbound['date'].pd.to_datetime(date_tourist_inbound['date'])"
   ]
  },
  {
   "cell_type": "code",
   "execution_count": 17,
   "metadata": {},
   "outputs": [
    {
     "name": "stderr",
     "output_type": "stream",
     "text": [
      "/var/folders/9h/g66bx9554bn3vx164q9t1k3m0000gp/T/ipykernel_54929/2774411642.py:1: SettingWithCopyWarning: \n",
      "A value is trying to be set on a copy of a slice from a DataFrame\n",
      "\n",
      "See the caveats in the documentation: https://pandas.pydata.org/pandas-docs/stable/user_guide/indexing.html#returning-a-view-versus-a-copy\n",
      "  date_tourist_inbound.drop(['Unnamed: 0'], inplace=True)\n"
     ]
    }
   ],
   "source": [
    "date_tourist_inbound.drop(['Unnamed: 0'], inplace=True)"
   ]
  },
  {
   "cell_type": "code",
   "execution_count": 18,
   "metadata": {},
   "outputs": [
    {
     "name": "stderr",
     "output_type": "stream",
     "text": [
      "/var/folders/9h/g66bx9554bn3vx164q9t1k3m0000gp/T/ipykernel_54929/1089807027.py:1: SettingWithCopyWarning: \n",
      "A value is trying to be set on a copy of a slice from a DataFrame.\n",
      "Try using .loc[row_indexer,col_indexer] = value instead\n",
      "\n",
      "See the caveats in the documentation: https://pandas.pydata.org/pandas-docs/stable/user_guide/indexing.html#returning-a-view-versus-a-copy\n",
      "  date_tourist_inbound['date']=pd.to_datetime(date_tourist_inbound['date'])\n"
     ]
    }
   ],
   "source": [
    "date_tourist_inbound['date']=pd.to_datetime(date_tourist_inbound['date'])"
   ]
  },
  {
   "cell_type": "code",
   "execution_count": 19,
   "metadata": {},
   "outputs": [],
   "source": [
    "date_tourist_inbound=date_tourist_inbound.reset_index()"
   ]
  },
  {
   "cell_type": "code",
   "execution_count": 20,
   "metadata": {},
   "outputs": [],
   "source": [
    "date_tourist_inbound.drop(date_tourist_inbound.columns[0], axis =1 , inplace=True)"
   ]
  },
  {
   "cell_type": "code",
   "execution_count": 21,
   "metadata": {},
   "outputs": [],
   "source": [
    "date_tourist_inbound['year'] = pd.DatetimeIndex(date_tourist_inbound['date']).year\n",
    "date_tourist_inbound['month_of_year'] = pd.DatetimeIndex(date_tourist_inbound['date']).month"
   ]
  },
  {
   "cell_type": "code",
   "execution_count": 22,
   "metadata": {},
   "outputs": [
    {
     "data": {
      "text/html": [
       "<div>\n",
       "<style scoped>\n",
       "    .dataframe tbody tr th:only-of-type {\n",
       "        vertical-align: middle;\n",
       "    }\n",
       "\n",
       "    .dataframe tbody tr th {\n",
       "        vertical-align: top;\n",
       "    }\n",
       "\n",
       "    .dataframe thead th {\n",
       "        text-align: right;\n",
       "    }\n",
       "</style>\n",
       "<table border=\"1\" class=\"dataframe\">\n",
       "  <thead>\n",
       "    <tr style=\"text-align: right;\">\n",
       "      <th></th>\n",
       "      <th>total_visitor_inbound</th>\n",
       "      <th>year</th>\n",
       "      <th>month_of_year</th>\n",
       "    </tr>\n",
       "  </thead>\n",
       "  <tbody>\n",
       "    <tr>\n",
       "      <th>0</th>\n",
       "      <td>816758</td>\n",
       "      <td>2022</td>\n",
       "      <td>10</td>\n",
       "    </tr>\n",
       "    <tr>\n",
       "      <th>1</th>\n",
       "      <td>782076</td>\n",
       "      <td>2022</td>\n",
       "      <td>9</td>\n",
       "    </tr>\n",
       "    <tr>\n",
       "      <th>2</th>\n",
       "      <td>728744</td>\n",
       "      <td>2022</td>\n",
       "      <td>8</td>\n",
       "    </tr>\n",
       "    <tr>\n",
       "      <th>3</th>\n",
       "      <td>726624</td>\n",
       "      <td>2022</td>\n",
       "      <td>7</td>\n",
       "    </tr>\n",
       "    <tr>\n",
       "      <th>4</th>\n",
       "      <td>543733</td>\n",
       "      <td>2022</td>\n",
       "      <td>6</td>\n",
       "    </tr>\n",
       "    <tr>\n",
       "      <th>...</th>\n",
       "      <td>...</td>\n",
       "      <td>...</td>\n",
       "      <td>...</td>\n",
       "    </tr>\n",
       "    <tr>\n",
       "      <th>533</th>\n",
       "      <td>162667</td>\n",
       "      <td>1978</td>\n",
       "      <td>5</td>\n",
       "    </tr>\n",
       "    <tr>\n",
       "      <th>534</th>\n",
       "      <td>162400</td>\n",
       "      <td>1978</td>\n",
       "      <td>4</td>\n",
       "    </tr>\n",
       "    <tr>\n",
       "      <th>535</th>\n",
       "      <td>163199</td>\n",
       "      <td>1978</td>\n",
       "      <td>3</td>\n",
       "    </tr>\n",
       "    <tr>\n",
       "      <th>536</th>\n",
       "      <td>147954</td>\n",
       "      <td>1978</td>\n",
       "      <td>2</td>\n",
       "    </tr>\n",
       "    <tr>\n",
       "      <th>537</th>\n",
       "      <td>167016</td>\n",
       "      <td>1978</td>\n",
       "      <td>1</td>\n",
       "    </tr>\n",
       "  </tbody>\n",
       "</table>\n",
       "<p>538 rows × 3 columns</p>\n",
       "</div>"
      ],
      "text/plain": [
       "    total_visitor_inbound  year  month_of_year\n",
       "0                  816758  2022             10\n",
       "1                  782076  2022              9\n",
       "2                  728744  2022              8\n",
       "3                  726624  2022              7\n",
       "4                  543733  2022              6\n",
       "..                    ...   ...            ...\n",
       "533                162667  1978              5\n",
       "534                162400  1978              4\n",
       "535                163199  1978              3\n",
       "536                147954  1978              2\n",
       "537                167016  1978              1\n",
       "\n",
       "[538 rows x 3 columns]"
      ]
     },
     "execution_count": 22,
     "metadata": {},
     "output_type": "execute_result"
    }
   ],
   "source": [
    "date_tourist_inbound.drop(columns='date')"
   ]
  },
  {
   "cell_type": "code",
   "execution_count": 23,
   "metadata": {},
   "outputs": [],
   "source": [
    "new_pd =pd.merge(new_pd,date_tourist_inbound, on= ['month_of_year','year'])"
   ]
  },
  {
   "cell_type": "code",
   "execution_count": 24,
   "metadata": {},
   "outputs": [],
   "source": [
    "air_pd['month']=pd.to_datetime(air_pd['month'])\n",
    "air_pd['year'] = pd.DatetimeIndex(air_pd['month']).year\n",
    "air_pd['month_of_year'] = pd.DatetimeIndex(air_pd['month']).month"
   ]
  },
  {
   "cell_type": "code",
   "execution_count": 25,
   "metadata": {},
   "outputs": [],
   "source": [
    "air_pd.drop(columns=['month'], inplace=True)"
   ]
  },
  {
   "cell_type": "code",
   "execution_count": 26,
   "metadata": {},
   "outputs": [],
   "source": [
    "new_pd.drop(columns=['date'], inplace=True)"
   ]
  },
  {
   "cell_type": "code",
   "execution_count": 27,
   "metadata": {},
   "outputs": [],
   "source": [
    "new_pd=pd.merge(new_pd,date_tourist_inbound, on= ['month_of_year','year'])"
   ]
  },
  {
   "cell_type": "code",
   "execution_count": 28,
   "metadata": {},
   "outputs": [],
   "source": [
    "new_pd2=pd.merge(new_pd,air_pd, on= ['month_of_year','year'], how='left')"
   ]
  },
  {
   "cell_type": "code",
   "execution_count": 29,
   "metadata": {},
   "outputs": [],
   "source": [
    "new_pd2.drop(columns=['total_visitor_inbound_x'], inplace=True)"
   ]
  },
  {
   "cell_type": "code",
   "execution_count": 30,
   "metadata": {},
   "outputs": [],
   "source": [
    "new_pd2.rename(columns= {'total_visitor_inbound_y':'total_visitor_inbound'}, inplace=True)"
   ]
  },
  {
   "cell_type": "code",
   "execution_count": 31,
   "metadata": {},
   "outputs": [
    {
     "name": "stdout",
     "output_type": "stream",
     "text": [
      "<class 'pandas.core.frame.DataFrame'>\n",
      "Int64Index: 488 entries, 0 to 487\n",
      "Data columns (total 7 columns):\n",
      " #   Column                 Non-Null Count  Dtype         \n",
      "---  ------                 --------------  -----         \n",
      " 0   total_rainfall         488 non-null    float64       \n",
      " 1   no_of_rainy_days       488 non-null    int64         \n",
      " 2   year                   488 non-null    int64         \n",
      " 3   month_of_year          488 non-null    int64         \n",
      " 4   date                   488 non-null    datetime64[ns]\n",
      " 5   total_visitor_inbound  488 non-null    object        \n",
      " 6   mean_temp              488 non-null    float64       \n",
      "dtypes: datetime64[ns](1), float64(2), int64(3), object(1)\n",
      "memory usage: 30.5+ KB\n"
     ]
    }
   ],
   "source": [
    "new_pd2.info()"
   ]
  },
  {
   "cell_type": "code",
   "execution_count": 32,
   "metadata": {},
   "outputs": [],
   "source": [
    "new_pd2['total_visitor_inbound']=new_pd2['total_visitor_inbound'].astype(int)"
   ]
  },
  {
   "cell_type": "code",
   "execution_count": 33,
   "metadata": {},
   "outputs": [],
   "source": [
    "new_pd2.to_csv('../data/clean.csv')"
   ]
  },
  {
   "cell_type": "markdown",
   "metadata": {},
   "source": [
    "### data for international visitor arrival\n",
    "compiled from SG Arrival cards completed by all visitors arriving in Singapore at point of entery . Excludes arrivals of Malaysian by land\n",
    "\n",
    "### Air temp data\n",
    "\n",
    "Gererated by: Singstat Table Builder\n",
    "Date generated: 10/12/2022\n",
    "contact: info#singstat.gov.sg \n"
   ]
  },
  {
   "cell_type": "markdown",
   "metadata": {},
   "source": [
    "### data for Surface Air Temperature - Monthly Mean\n",
    "data is recorded at Changi Climate Station manage by National Envioroment Angency\n",
    "\n",
    "Gererated by: Naitonal Enviornment Agency Date generated: last updated on December 15, 2022 data.gov.sg"
   ]
  },
  {
   "cell_type": "markdown",
   "metadata": {
    "tags": []
   },
   "source": [
    "### Data Dictionary\n",
    "\n",
    "Now that we've fixed our data, and given it appropriate names, let's create a [data dictionary](http://library.ucmerced.edu/node/10249). \n",
    "\n",
    "A data dictionary provides a quick overview of features/variables/columns, alongside data types and descriptions. The more descriptive you can be, the more useful this document is.\n",
    "\n",
    "Example of a Fictional Data Dictionary Entry: \n",
    "\n",
    "|Feature|Type|Dataset|Description|\n",
    "|---|---|---|---|\n",
    "|**county_pop**|*integer*|2010 census|The population of the county (units in thousands, where 2.5 represents 2500 people).| \n",
    "|**per_poverty**|*float*|2010 census|The percent of the county over the age of 18 living below the 200% of official US poverty rate (units percent to two decimal places 98.10 means 98.1%)|\n",
    "\n",
    "[Here's a quick link to a short guide for formatting markdown in Jupyter notebooks](https://jupyter-notebook.readthedocs.io/en/stable/examples/Notebook/Working%20With%20Markdown%20Cells.html).\n",
    "\n",
    "Provided is the skeleton for formatting a markdown table, with columns headers that will help you create a data dictionary to quickly summarize your data, as well as some examples. **This would be a great thing to copy and paste into your custom README for this project.**\n",
    "\n",
    "*Note*: if you are unsure of what a feature is, check the source of the data! This can be found in the README."
   ]
  },
  {
   "cell_type": "markdown",
   "metadata": {},
   "source": [
    "\n",
    "|Feature|Type|Dataset|Description|\n",
    "|---|---|---|---|\n",
    "|total_rainfall|float|rainfall-monthly-total|Total rainfall in mm| \n",
    "|no_of_rainy_days|int64|rainfall-monthly-total-of-rain-days|Total number of rainfall|\n",
    "|year|int64|rainfall-monthly-total|year| \n",
    "|month_of_year|int64|rainfall-monthly-total|month| \n",
    "|date|datetime64[ns]|rainfall-monthly-total|date| \n",
    "|total_visitor_inbound|int64|M550001|inbound visitor| \n",
    "|mean_temp|float64|surface-air-temperature-monthly-mean|mean tempeture in month| "
   ]
  },
  {
   "cell_type": "markdown",
   "metadata": {},
   "source": [
    "## Exploratory Data Analysis\n",
    "\n",
    "Complete the following steps to explore your data. You are welcome to do more EDA than the steps outlined here as you feel necessary:\n",
    "1. Summary Statistics.\n",
    "2. Use a **dictionary comprehension** to apply the standard deviation function you create in part 1 to each numeric column in the dataframe.  **No loops**.\n",
    "    - Assign the output to variable `sd` as a dictionary where: \n",
    "        - Each column name is now a key \n",
    "        - That standard deviation of the column is the value \n",
    "        - *Example Output :* `{'rainfall-monthly-total': xxx, 'no_of_rainy_days': xxx, ...}`\n",
    "3. Investigate trends in the data.\n",
    "    - Using sorting and/or masking (along with the `.head()` method to avoid printing our entire dataframe), consider questions relevant to your problem statement. Some examples are provided below (but feel free to change these questions for your specific problem):\n",
    "        - Which month have the highest and lowest total rainfall in 1990, 2000, 2010 and 2020?\n",
    "        - Which year have the highest and lowest total rainfall in the date range of analysis?\n",
    "        - Which month have the highest and lowest number of rainy days in 1990, 2000, 2010 and 2020?\n",
    "        - Which year have the highest and lowest number of rainy days in the date range of analysis?\n",
    "        - Are there any outliers months in the dataset?\n",
    "       \n",
    "    - **The above 5 questions are compulsory. Feel free to explore other trends based on the datasets that you have choosen for analysis. You should comment on your findings at each step in a markdown cell below your code block**. Make sure you include at least one example of sorting your dataframe by a column, and one example of using boolean filtering (i.e., masking) to select a subset of the dataframe."
   ]
  },
  {
   "cell_type": "code",
   "execution_count": 34,
   "metadata": {},
   "outputs": [
    {
     "data": {
      "text/html": [
       "<div>\n",
       "<style scoped>\n",
       "    .dataframe tbody tr th:only-of-type {\n",
       "        vertical-align: middle;\n",
       "    }\n",
       "\n",
       "    .dataframe tbody tr th {\n",
       "        vertical-align: top;\n",
       "    }\n",
       "\n",
       "    .dataframe thead th {\n",
       "        text-align: right;\n",
       "    }\n",
       "</style>\n",
       "<table border=\"1\" class=\"dataframe\">\n",
       "  <thead>\n",
       "    <tr style=\"text-align: right;\">\n",
       "      <th></th>\n",
       "      <th>total_rainfall</th>\n",
       "      <th>no_of_rainy_days</th>\n",
       "      <th>year</th>\n",
       "      <th>month_of_year</th>\n",
       "      <th>total_visitor_inbound</th>\n",
       "      <th>mean_temp</th>\n",
       "    </tr>\n",
       "  </thead>\n",
       "  <tbody>\n",
       "    <tr>\n",
       "      <th>count</th>\n",
       "      <td>488.000000</td>\n",
       "      <td>488.000000</td>\n",
       "      <td>488.000000</td>\n",
       "      <td>488.000000</td>\n",
       "      <td>4.880000e+02</td>\n",
       "      <td>488.000000</td>\n",
       "    </tr>\n",
       "    <tr>\n",
       "      <th>mean</th>\n",
       "      <td>177.163730</td>\n",
       "      <td>14.061475</td>\n",
       "      <td>2001.836066</td>\n",
       "      <td>6.467213</td>\n",
       "      <td>6.993745e+05</td>\n",
       "      <td>27.678893</td>\n",
       "    </tr>\n",
       "    <tr>\n",
       "      <th>std</th>\n",
       "      <td>113.916029</td>\n",
       "      <td>4.947394</td>\n",
       "      <td>11.752660</td>\n",
       "      <td>3.449095</td>\n",
       "      <td>4.148521e+05</td>\n",
       "      <td>0.802195</td>\n",
       "    </tr>\n",
       "    <tr>\n",
       "      <th>min</th>\n",
       "      <td>0.200000</td>\n",
       "      <td>1.000000</td>\n",
       "      <td>1982.000000</td>\n",
       "      <td>1.000000</td>\n",
       "      <td>7.500000e+02</td>\n",
       "      <td>25.400000</td>\n",
       "    </tr>\n",
       "    <tr>\n",
       "      <th>25%</th>\n",
       "      <td>93.850000</td>\n",
       "      <td>11.000000</td>\n",
       "      <td>1992.000000</td>\n",
       "      <td>3.000000</td>\n",
       "      <td>4.088112e+05</td>\n",
       "      <td>27.100000</td>\n",
       "    </tr>\n",
       "    <tr>\n",
       "      <th>50%</th>\n",
       "      <td>159.450000</td>\n",
       "      <td>14.000000</td>\n",
       "      <td>2002.000000</td>\n",
       "      <td>6.000000</td>\n",
       "      <td>6.069960e+05</td>\n",
       "      <td>27.700000</td>\n",
       "    </tr>\n",
       "    <tr>\n",
       "      <th>75%</th>\n",
       "      <td>238.075000</td>\n",
       "      <td>18.000000</td>\n",
       "      <td>2012.000000</td>\n",
       "      <td>9.000000</td>\n",
       "      <td>9.241525e+05</td>\n",
       "      <td>28.300000</td>\n",
       "    </tr>\n",
       "    <tr>\n",
       "      <th>max</th>\n",
       "      <td>765.900000</td>\n",
       "      <td>27.000000</td>\n",
       "      <td>2022.000000</td>\n",
       "      <td>12.000000</td>\n",
       "      <td>1.802593e+06</td>\n",
       "      <td>29.500000</td>\n",
       "    </tr>\n",
       "  </tbody>\n",
       "</table>\n",
       "</div>"
      ],
      "text/plain": [
       "       total_rainfall  no_of_rainy_days         year  month_of_year  \\\n",
       "count      488.000000        488.000000   488.000000     488.000000   \n",
       "mean       177.163730         14.061475  2001.836066       6.467213   \n",
       "std        113.916029          4.947394    11.752660       3.449095   \n",
       "min          0.200000          1.000000  1982.000000       1.000000   \n",
       "25%         93.850000         11.000000  1992.000000       3.000000   \n",
       "50%        159.450000         14.000000  2002.000000       6.000000   \n",
       "75%        238.075000         18.000000  2012.000000       9.000000   \n",
       "max        765.900000         27.000000  2022.000000      12.000000   \n",
       "\n",
       "       total_visitor_inbound   mean_temp  \n",
       "count           4.880000e+02  488.000000  \n",
       "mean            6.993745e+05   27.678893  \n",
       "std             4.148521e+05    0.802195  \n",
       "min             7.500000e+02   25.400000  \n",
       "25%             4.088112e+05   27.100000  \n",
       "50%             6.069960e+05   27.700000  \n",
       "75%             9.241525e+05   28.300000  \n",
       "max             1.802593e+06   29.500000  "
      ]
     },
     "execution_count": 34,
     "metadata": {},
     "output_type": "execute_result"
    }
   ],
   "source": [
    "#Code:\n",
    "pd_dict = new_pd2.to_dict()\n",
    "new_pd2.describe()"
   ]
  },
  {
   "cell_type": "code",
   "execution_count": 35,
   "metadata": {},
   "outputs": [
    {
     "name": "stdout",
     "output_type": "stream",
     "text": [
      "113.79925170470057\n",
      "4.9423221913224085\n",
      "11.740612333388459\n",
      "3.4455588574029625\n",
      "414426.85015974514\n"
     ]
    }
   ],
   "source": [
    "print(sd(pd_dict['total_rainfall'].values()))\n",
    "print(sd(pd_dict['no_of_rainy_days'].values()))\n",
    "print(sd(pd_dict['year'].values()))\n",
    "print(sd(pd_dict['month_of_year'].values()))\n",
    "print(sd(pd_dict['total_visitor_inbound'].values()))"
   ]
  },
  {
   "cell_type": "code",
   "execution_count": 36,
   "metadata": {},
   "outputs": [
    {
     "data": {
      "text/plain": [
       "{'total rainfall': 113.79925170470057,\n",
       " 'no of rainy days': 4.9423221913224085,\n",
       " 'year': 11.740612333388459,\n",
       " 'month of year': 3.4455588574029625,\n",
       " 'total visitor inbound': 414426.85015974514}"
      ]
     },
     "execution_count": 36,
     "metadata": {},
     "output_type": "execute_result"
    }
   ],
   "source": [
    "sd={'total rainfall' : sd(pd_dict['total_rainfall'].values()),\n",
    "    'no of rainy days' : sd(pd_dict['no_of_rainy_days'].values()), \n",
    "    'year' : sd(pd_dict['year'].values()),\n",
    "    'month of year' : sd(pd_dict['month_of_year'].values()),\n",
    "    'total visitor inbound' : sd(pd_dict['total_visitor_inbound'].values())}\n",
    "sd"
   ]
  },
  {
   "cell_type": "code",
   "execution_count": 37,
   "metadata": {},
   "outputs": [
    {
     "data": {
      "text/html": [
       "<div>\n",
       "<style scoped>\n",
       "    .dataframe tbody tr th:only-of-type {\n",
       "        vertical-align: middle;\n",
       "    }\n",
       "\n",
       "    .dataframe tbody tr th {\n",
       "        vertical-align: top;\n",
       "    }\n",
       "\n",
       "    .dataframe thead th {\n",
       "        text-align: right;\n",
       "    }\n",
       "</style>\n",
       "<table border=\"1\" class=\"dataframe\">\n",
       "  <thead>\n",
       "    <tr style=\"text-align: right;\">\n",
       "      <th></th>\n",
       "      <th>total_rainfall</th>\n",
       "      <th>no_of_rainy_days</th>\n",
       "      <th>year</th>\n",
       "      <th>month_of_year</th>\n",
       "      <th>date</th>\n",
       "      <th>total_visitor_inbound</th>\n",
       "      <th>mean_temp</th>\n",
       "    </tr>\n",
       "  </thead>\n",
       "  <tbody>\n",
       "    <tr>\n",
       "      <th>97</th>\n",
       "      <td>24.1</td>\n",
       "      <td>8</td>\n",
       "      <td>1990</td>\n",
       "      <td>2</td>\n",
       "      <td>1990-02-01</td>\n",
       "      <td>424670</td>\n",
       "      <td>27.6</td>\n",
       "    </tr>\n",
       "    <tr>\n",
       "      <th>99</th>\n",
       "      <td>52.4</td>\n",
       "      <td>10</td>\n",
       "      <td>1990</td>\n",
       "      <td>4</td>\n",
       "      <td>1990-04-01</td>\n",
       "      <td>430272</td>\n",
       "      <td>28.5</td>\n",
       "    </tr>\n",
       "    <tr>\n",
       "      <th>105</th>\n",
       "      <td>56.4</td>\n",
       "      <td>12</td>\n",
       "      <td>1990</td>\n",
       "      <td>10</td>\n",
       "      <td>1990-10-01</td>\n",
       "      <td>435281</td>\n",
       "      <td>27.5</td>\n",
       "    </tr>\n",
       "    <tr>\n",
       "      <th>98</th>\n",
       "      <td>94.2</td>\n",
       "      <td>4</td>\n",
       "      <td>1990</td>\n",
       "      <td>3</td>\n",
       "      <td>1990-03-01</td>\n",
       "      <td>445528</td>\n",
       "      <td>28.2</td>\n",
       "    </tr>\n",
       "    <tr>\n",
       "      <th>101</th>\n",
       "      <td>112.6</td>\n",
       "      <td>9</td>\n",
       "      <td>1990</td>\n",
       "      <td>6</td>\n",
       "      <td>1990-06-01</td>\n",
       "      <td>409635</td>\n",
       "      <td>28.3</td>\n",
       "    </tr>\n",
       "  </tbody>\n",
       "</table>\n",
       "</div>"
      ],
      "text/plain": [
       "     total_rainfall  no_of_rainy_days  year  month_of_year       date  \\\n",
       "97             24.1                 8  1990              2 1990-02-01   \n",
       "99             52.4                10  1990              4 1990-04-01   \n",
       "105            56.4                12  1990             10 1990-10-01   \n",
       "98             94.2                 4  1990              3 1990-03-01   \n",
       "101           112.6                 9  1990              6 1990-06-01   \n",
       "\n",
       "     total_visitor_inbound  mean_temp  \n",
       "97                  424670       27.6  \n",
       "99                  430272       28.5  \n",
       "105                 435281       27.5  \n",
       "98                  445528       28.2  \n",
       "101                 409635       28.3  "
      ]
     },
     "execution_count": 37,
     "metadata": {},
     "output_type": "execute_result"
    }
   ],
   "source": [
    "#top 5 month with lowest total rainfall in 1990\n",
    "new_pd2[new_pd2['year']==1990].sort_values(by='total_rainfall', ascending=True).head()"
   ]
  },
  {
   "cell_type": "code",
   "execution_count": 38,
   "metadata": {},
   "outputs": [
    {
     "name": "stdout",
     "output_type": "stream",
     "text": [
      "    total_rainfall  no_of_rainy_days    year  month_of_year       date  \\\n",
      "97            24.1               8.0  1990.0            2.0 1990-02-01   \n",
      "\n",
      "    total_visitor_inbound  mean_temp  \n",
      "97               424670.0       27.6  \n"
     ]
    }
   ],
   "source": [
    "#top month with lowest total rainfall in 1990\n",
    "df_1990 = new_pd2.mask(new_pd2['year']!=1990).dropna()\n",
    "print(df_1990[df_1990['total_rainfall']== df_1990['total_rainfall'].min()])"
   ]
  },
  {
   "cell_type": "code",
   "execution_count": 39,
   "metadata": {},
   "outputs": [
    {
     "data": {
      "text/html": [
       "<div>\n",
       "<style scoped>\n",
       "    .dataframe tbody tr th:only-of-type {\n",
       "        vertical-align: middle;\n",
       "    }\n",
       "\n",
       "    .dataframe tbody tr th {\n",
       "        vertical-align: top;\n",
       "    }\n",
       "\n",
       "    .dataframe thead th {\n",
       "        text-align: right;\n",
       "    }\n",
       "</style>\n",
       "<table border=\"1\" class=\"dataframe\">\n",
       "  <thead>\n",
       "    <tr style=\"text-align: right;\">\n",
       "      <th></th>\n",
       "      <th>total_rainfall</th>\n",
       "      <th>no_of_rainy_days</th>\n",
       "      <th>year</th>\n",
       "      <th>month_of_year</th>\n",
       "      <th>date</th>\n",
       "      <th>total_visitor_inbound</th>\n",
       "      <th>mean_temp</th>\n",
       "    </tr>\n",
       "  </thead>\n",
       "  <tbody>\n",
       "    <tr>\n",
       "      <th>224</th>\n",
       "      <td>81.1</td>\n",
       "      <td>12</td>\n",
       "      <td>2000</td>\n",
       "      <td>9</td>\n",
       "      <td>2000-09-01</td>\n",
       "      <td>612708</td>\n",
       "      <td>28.0</td>\n",
       "    </tr>\n",
       "    <tr>\n",
       "      <th>220</th>\n",
       "      <td>96.8</td>\n",
       "      <td>10</td>\n",
       "      <td>2000</td>\n",
       "      <td>5</td>\n",
       "      <td>2000-05-01</td>\n",
       "      <td>595838</td>\n",
       "      <td>28.6</td>\n",
       "    </tr>\n",
       "    <tr>\n",
       "      <th>223</th>\n",
       "      <td>113.5</td>\n",
       "      <td>18</td>\n",
       "      <td>2000</td>\n",
       "      <td>8</td>\n",
       "      <td>2000-08-01</td>\n",
       "      <td>695965</td>\n",
       "      <td>27.5</td>\n",
       "    </tr>\n",
       "    <tr>\n",
       "      <th>222</th>\n",
       "      <td>116.1</td>\n",
       "      <td>12</td>\n",
       "      <td>2000</td>\n",
       "      <td>7</td>\n",
       "      <td>2000-07-01</td>\n",
       "      <td>707413</td>\n",
       "      <td>28.1</td>\n",
       "    </tr>\n",
       "    <tr>\n",
       "      <th>225</th>\n",
       "      <td>120.9</td>\n",
       "      <td>14</td>\n",
       "      <td>2000</td>\n",
       "      <td>10</td>\n",
       "      <td>2000-10-01</td>\n",
       "      <td>636185</td>\n",
       "      <td>27.8</td>\n",
       "    </tr>\n",
       "  </tbody>\n",
       "</table>\n",
       "</div>"
      ],
      "text/plain": [
       "     total_rainfall  no_of_rainy_days  year  month_of_year       date  \\\n",
       "224            81.1                12  2000              9 2000-09-01   \n",
       "220            96.8                10  2000              5 2000-05-01   \n",
       "223           113.5                18  2000              8 2000-08-01   \n",
       "222           116.1                12  2000              7 2000-07-01   \n",
       "225           120.9                14  2000             10 2000-10-01   \n",
       "\n",
       "     total_visitor_inbound  mean_temp  \n",
       "224                 612708       28.0  \n",
       "220                 595838       28.6  \n",
       "223                 695965       27.5  \n",
       "222                 707413       28.1  \n",
       "225                 636185       27.8  "
      ]
     },
     "execution_count": 39,
     "metadata": {},
     "output_type": "execute_result"
    }
   ],
   "source": [
    "#top 5 month with lowest total rainfall in 2000\n",
    "new_pd2[new_pd2['year']==2000].sort_values(by='total_rainfall', ascending=True).head()"
   ]
  },
  {
   "cell_type": "code",
   "execution_count": 40,
   "metadata": {},
   "outputs": [
    {
     "name": "stdout",
     "output_type": "stream",
     "text": [
      "     total_rainfall  no_of_rainy_days    year  month_of_year       date  \\\n",
      "224            81.1              12.0  2000.0            9.0 2000-09-01   \n",
      "\n",
      "     total_visitor_inbound  mean_temp  \n",
      "224               612708.0       28.0  \n"
     ]
    }
   ],
   "source": [
    "##top month with lowest total rainfall in 2000\n",
    "df_2000 = new_pd2.mask(new_pd2['year']!=2000).dropna()\n",
    "print(df_2000[df_2000['total_rainfall']== df_2000['total_rainfall'].min()])"
   ]
  },
  {
   "cell_type": "code",
   "execution_count": 41,
   "metadata": {},
   "outputs": [
    {
     "data": {
      "text/html": [
       "<div>\n",
       "<style scoped>\n",
       "    .dataframe tbody tr th:only-of-type {\n",
       "        vertical-align: middle;\n",
       "    }\n",
       "\n",
       "    .dataframe tbody tr th {\n",
       "        vertical-align: top;\n",
       "    }\n",
       "\n",
       "    .dataframe thead th {\n",
       "        text-align: right;\n",
       "    }\n",
       "</style>\n",
       "<table border=\"1\" class=\"dataframe\">\n",
       "  <thead>\n",
       "    <tr style=\"text-align: right;\">\n",
       "      <th></th>\n",
       "      <th>total_rainfall</th>\n",
       "      <th>no_of_rainy_days</th>\n",
       "      <th>year</th>\n",
       "      <th>month_of_year</th>\n",
       "      <th>date</th>\n",
       "      <th>total_visitor_inbound</th>\n",
       "      <th>mean_temp</th>\n",
       "    </tr>\n",
       "  </thead>\n",
       "  <tbody>\n",
       "    <tr>\n",
       "      <th>337</th>\n",
       "      <td>6.3</td>\n",
       "      <td>4</td>\n",
       "      <td>2010</td>\n",
       "      <td>2</td>\n",
       "      <td>2010-02-01</td>\n",
       "      <td>857387</td>\n",
       "      <td>28.9</td>\n",
       "    </tr>\n",
       "    <tr>\n",
       "      <th>336</th>\n",
       "      <td>69.5</td>\n",
       "      <td>10</td>\n",
       "      <td>2010</td>\n",
       "      <td>1</td>\n",
       "      <td>2010-01-01</td>\n",
       "      <td>908495</td>\n",
       "      <td>27.5</td>\n",
       "    </tr>\n",
       "    <tr>\n",
       "      <th>344</th>\n",
       "      <td>121.5</td>\n",
       "      <td>13</td>\n",
       "      <td>2010</td>\n",
       "      <td>9</td>\n",
       "      <td>2010-09-01</td>\n",
       "      <td>947585</td>\n",
       "      <td>28.0</td>\n",
       "    </tr>\n",
       "    <tr>\n",
       "      <th>340</th>\n",
       "      <td>157.5</td>\n",
       "      <td>17</td>\n",
       "      <td>2010</td>\n",
       "      <td>5</td>\n",
       "      <td>2010-05-01</td>\n",
       "      <td>946676</td>\n",
       "      <td>29.2</td>\n",
       "    </tr>\n",
       "    <tr>\n",
       "      <th>343</th>\n",
       "      <td>158.4</td>\n",
       "      <td>16</td>\n",
       "      <td>2010</td>\n",
       "      <td>8</td>\n",
       "      <td>2010-08-01</td>\n",
       "      <td>996899</td>\n",
       "      <td>27.9</td>\n",
       "    </tr>\n",
       "  </tbody>\n",
       "</table>\n",
       "</div>"
      ],
      "text/plain": [
       "     total_rainfall  no_of_rainy_days  year  month_of_year       date  \\\n",
       "337             6.3                 4  2010              2 2010-02-01   \n",
       "336            69.5                10  2010              1 2010-01-01   \n",
       "344           121.5                13  2010              9 2010-09-01   \n",
       "340           157.5                17  2010              5 2010-05-01   \n",
       "343           158.4                16  2010              8 2010-08-01   \n",
       "\n",
       "     total_visitor_inbound  mean_temp  \n",
       "337                 857387       28.9  \n",
       "336                 908495       27.5  \n",
       "344                 947585       28.0  \n",
       "340                 946676       29.2  \n",
       "343                 996899       27.9  "
      ]
     },
     "execution_count": 41,
     "metadata": {},
     "output_type": "execute_result"
    }
   ],
   "source": [
    "#top 5 month with lowest total rainfall in 2010\n",
    "new_pd2[new_pd2['year']==2010].sort_values(by='total_rainfall', ascending=True).head()"
   ]
  },
  {
   "cell_type": "code",
   "execution_count": 42,
   "metadata": {},
   "outputs": [
    {
     "name": "stdout",
     "output_type": "stream",
     "text": [
      "     total_rainfall  no_of_rainy_days    year  month_of_year       date  \\\n",
      "337             6.3               4.0  2010.0            2.0 2010-02-01   \n",
      "\n",
      "     total_visitor_inbound  mean_temp  \n",
      "337               857387.0       28.9  \n"
     ]
    }
   ],
   "source": [
    "##top month with lowest total rainfall in 2010\n",
    "df_2010 = new_pd2.mask(new_pd2['year']!=2010).dropna()\n",
    "print(df_2010[df_2010['total_rainfall']== df_2010['total_rainfall'].min()])"
   ]
  },
  {
   "cell_type": "code",
   "execution_count": 43,
   "metadata": {},
   "outputs": [
    {
     "data": {
      "text/html": [
       "<div>\n",
       "<style scoped>\n",
       "    .dataframe tbody tr th:only-of-type {\n",
       "        vertical-align: middle;\n",
       "    }\n",
       "\n",
       "    .dataframe tbody tr th {\n",
       "        vertical-align: top;\n",
       "    }\n",
       "\n",
       "    .dataframe thead th {\n",
       "        text-align: right;\n",
       "    }\n",
       "</style>\n",
       "<table border=\"1\" class=\"dataframe\">\n",
       "  <thead>\n",
       "    <tr style=\"text-align: right;\">\n",
       "      <th></th>\n",
       "      <th>total_rainfall</th>\n",
       "      <th>no_of_rainy_days</th>\n",
       "      <th>year</th>\n",
       "      <th>month_of_year</th>\n",
       "      <th>date</th>\n",
       "      <th>total_visitor_inbound</th>\n",
       "      <th>mean_temp</th>\n",
       "    </tr>\n",
       "  </thead>\n",
       "  <tbody>\n",
       "    <tr>\n",
       "      <th>457</th>\n",
       "      <td>65.0</td>\n",
       "      <td>8</td>\n",
       "      <td>2020</td>\n",
       "      <td>2</td>\n",
       "      <td>2020-02-01</td>\n",
       "      <td>732966</td>\n",
       "      <td>27.9</td>\n",
       "    </tr>\n",
       "    <tr>\n",
       "      <th>465</th>\n",
       "      <td>78.8</td>\n",
       "      <td>16</td>\n",
       "      <td>2020</td>\n",
       "      <td>10</td>\n",
       "      <td>2020-10-01</td>\n",
       "      <td>13399</td>\n",
       "      <td>28.3</td>\n",
       "    </tr>\n",
       "    <tr>\n",
       "      <th>456</th>\n",
       "      <td>88.4</td>\n",
       "      <td>6</td>\n",
       "      <td>2020</td>\n",
       "      <td>1</td>\n",
       "      <td>2020-01-01</td>\n",
       "      <td>1688102</td>\n",
       "      <td>27.7</td>\n",
       "    </tr>\n",
       "    <tr>\n",
       "      <th>463</th>\n",
       "      <td>103.4</td>\n",
       "      <td>12</td>\n",
       "      <td>2020</td>\n",
       "      <td>8</td>\n",
       "      <td>2020-08-01</td>\n",
       "      <td>8912</td>\n",
       "      <td>28.3</td>\n",
       "    </tr>\n",
       "    <tr>\n",
       "      <th>458</th>\n",
       "      <td>108.8</td>\n",
       "      <td>8</td>\n",
       "      <td>2020</td>\n",
       "      <td>3</td>\n",
       "      <td>2020-03-01</td>\n",
       "      <td>240001</td>\n",
       "      <td>28.6</td>\n",
       "    </tr>\n",
       "  </tbody>\n",
       "</table>\n",
       "</div>"
      ],
      "text/plain": [
       "     total_rainfall  no_of_rainy_days  year  month_of_year       date  \\\n",
       "457            65.0                 8  2020              2 2020-02-01   \n",
       "465            78.8                16  2020             10 2020-10-01   \n",
       "456            88.4                 6  2020              1 2020-01-01   \n",
       "463           103.4                12  2020              8 2020-08-01   \n",
       "458           108.8                 8  2020              3 2020-03-01   \n",
       "\n",
       "     total_visitor_inbound  mean_temp  \n",
       "457                 732966       27.9  \n",
       "465                  13399       28.3  \n",
       "456                1688102       27.7  \n",
       "463                   8912       28.3  \n",
       "458                 240001       28.6  "
      ]
     },
     "execution_count": 43,
     "metadata": {},
     "output_type": "execute_result"
    }
   ],
   "source": [
    "#top 5 month with lowest total rainfall in 2020\n",
    "new_pd2[new_pd2['year']==2020].sort_values(by='total_rainfall', ascending=True).head()"
   ]
  },
  {
   "cell_type": "code",
   "execution_count": 44,
   "metadata": {},
   "outputs": [
    {
     "name": "stdout",
     "output_type": "stream",
     "text": [
      "     total_rainfall  no_of_rainy_days    year  month_of_year       date  \\\n",
      "457            65.0               8.0  2020.0            2.0 2020-02-01   \n",
      "\n",
      "     total_visitor_inbound  mean_temp  \n",
      "457               732966.0       27.9  \n"
     ]
    }
   ],
   "source": [
    "#top month with lowest total rainfall in 2020\n",
    "df_2020 = new_pd2.mask(new_pd2['year']!=2020).dropna()\n",
    "print(df_2020[df_2020['total_rainfall']== df_2020['total_rainfall'].min()])"
   ]
  },
  {
   "cell_type": "code",
   "execution_count": 45,
   "metadata": {},
   "outputs": [
    {
     "data": {
      "text/html": [
       "<div>\n",
       "<style scoped>\n",
       "    .dataframe tbody tr th:only-of-type {\n",
       "        vertical-align: middle;\n",
       "    }\n",
       "\n",
       "    .dataframe tbody tr th {\n",
       "        vertical-align: top;\n",
       "    }\n",
       "\n",
       "    .dataframe thead th {\n",
       "        text-align: right;\n",
       "    }\n",
       "</style>\n",
       "<table border=\"1\" class=\"dataframe\">\n",
       "  <thead>\n",
       "    <tr style=\"text-align: right;\">\n",
       "      <th></th>\n",
       "      <th>total_rainfall</th>\n",
       "      <th>no_of_rainy_days</th>\n",
       "      <th>year</th>\n",
       "      <th>month_of_year</th>\n",
       "      <th>date</th>\n",
       "      <th>total_visitor_inbound</th>\n",
       "      <th>mean_temp</th>\n",
       "    </tr>\n",
       "  </thead>\n",
       "  <tbody>\n",
       "    <tr>\n",
       "      <th>104</th>\n",
       "      <td>204.5</td>\n",
       "      <td>17</td>\n",
       "      <td>1990</td>\n",
       "      <td>9</td>\n",
       "      <td>1990-09-01</td>\n",
       "      <td>427523</td>\n",
       "      <td>27.2</td>\n",
       "    </tr>\n",
       "    <tr>\n",
       "      <th>107</th>\n",
       "      <td>201.1</td>\n",
       "      <td>16</td>\n",
       "      <td>1990</td>\n",
       "      <td>12</td>\n",
       "      <td>1990-12-01</td>\n",
       "      <td>488768</td>\n",
       "      <td>26.3</td>\n",
       "    </tr>\n",
       "    <tr>\n",
       "      <th>106</th>\n",
       "      <td>180.4</td>\n",
       "      <td>17</td>\n",
       "      <td>1990</td>\n",
       "      <td>11</td>\n",
       "      <td>1990-11-01</td>\n",
       "      <td>448573</td>\n",
       "      <td>27.2</td>\n",
       "    </tr>\n",
       "    <tr>\n",
       "      <th>100</th>\n",
       "      <td>180.1</td>\n",
       "      <td>11</td>\n",
       "      <td>1990</td>\n",
       "      <td>5</td>\n",
       "      <td>1990-05-01</td>\n",
       "      <td>409797</td>\n",
       "      <td>28.6</td>\n",
       "    </tr>\n",
       "    <tr>\n",
       "      <th>96</th>\n",
       "      <td>147.4</td>\n",
       "      <td>13</td>\n",
       "      <td>1990</td>\n",
       "      <td>1</td>\n",
       "      <td>1990-01-01</td>\n",
       "      <td>432993</td>\n",
       "      <td>26.2</td>\n",
       "    </tr>\n",
       "  </tbody>\n",
       "</table>\n",
       "</div>"
      ],
      "text/plain": [
       "     total_rainfall  no_of_rainy_days  year  month_of_year       date  \\\n",
       "104           204.5                17  1990              9 1990-09-01   \n",
       "107           201.1                16  1990             12 1990-12-01   \n",
       "106           180.4                17  1990             11 1990-11-01   \n",
       "100           180.1                11  1990              5 1990-05-01   \n",
       "96            147.4                13  1990              1 1990-01-01   \n",
       "\n",
       "     total_visitor_inbound  mean_temp  \n",
       "104                 427523       27.2  \n",
       "107                 488768       26.3  \n",
       "106                 448573       27.2  \n",
       "100                 409797       28.6  \n",
       "96                  432993       26.2  "
      ]
     },
     "execution_count": 45,
     "metadata": {},
     "output_type": "execute_result"
    }
   ],
   "source": [
    "#top 5 month with highest total rainfall in 1990\n",
    "new_pd2[new_pd2['year']==1990].sort_values(by='total_rainfall', ascending=False).head()"
   ]
  },
  {
   "cell_type": "code",
   "execution_count": 46,
   "metadata": {},
   "outputs": [
    {
     "name": "stdout",
     "output_type": "stream",
     "text": [
      "     total_rainfall  no_of_rainy_days    year  month_of_year       date  \\\n",
      "104           204.5              17.0  1990.0            9.0 1990-09-01   \n",
      "\n",
      "     total_visitor_inbound  mean_temp  \n",
      "104               427523.0       27.2  \n"
     ]
    }
   ],
   "source": [
    "#top month with highest total rainfall in 1990\n",
    "df_1990 = new_pd2.mask(new_pd2['year']!=1990).dropna()\n",
    "print(df_1990[df_1990['total_rainfall']== df_1990['total_rainfall'].max()])"
   ]
  },
  {
   "cell_type": "code",
   "execution_count": 47,
   "metadata": {},
   "outputs": [
    {
     "data": {
      "text/html": [
       "<div>\n",
       "<style scoped>\n",
       "    .dataframe tbody tr th:only-of-type {\n",
       "        vertical-align: middle;\n",
       "    }\n",
       "\n",
       "    .dataframe tbody tr th {\n",
       "        vertical-align: top;\n",
       "    }\n",
       "\n",
       "    .dataframe thead th {\n",
       "        text-align: right;\n",
       "    }\n",
       "</style>\n",
       "<table border=\"1\" class=\"dataframe\">\n",
       "  <thead>\n",
       "    <tr style=\"text-align: right;\">\n",
       "      <th></th>\n",
       "      <th>total_rainfall</th>\n",
       "      <th>no_of_rainy_days</th>\n",
       "      <th>year</th>\n",
       "      <th>month_of_year</th>\n",
       "      <th>date</th>\n",
       "      <th>total_visitor_inbound</th>\n",
       "      <th>mean_temp</th>\n",
       "    </tr>\n",
       "  </thead>\n",
       "  <tbody>\n",
       "    <tr>\n",
       "      <th>226</th>\n",
       "      <td>385.7</td>\n",
       "      <td>21</td>\n",
       "      <td>2000</td>\n",
       "      <td>11</td>\n",
       "      <td>2000-11-01</td>\n",
       "      <td>625618</td>\n",
       "      <td>27.3</td>\n",
       "    </tr>\n",
       "    <tr>\n",
       "      <th>219</th>\n",
       "      <td>311.6</td>\n",
       "      <td>20</td>\n",
       "      <td>2000</td>\n",
       "      <td>4</td>\n",
       "      <td>2000-04-01</td>\n",
       "      <td>636970</td>\n",
       "      <td>27.5</td>\n",
       "    </tr>\n",
       "    <tr>\n",
       "      <th>216</th>\n",
       "      <td>275.2</td>\n",
       "      <td>14</td>\n",
       "      <td>2000</td>\n",
       "      <td>1</td>\n",
       "      <td>2000-01-01</td>\n",
       "      <td>637852</td>\n",
       "      <td>26.3</td>\n",
       "    </tr>\n",
       "    <tr>\n",
       "      <th>218</th>\n",
       "      <td>238.3</td>\n",
       "      <td>15</td>\n",
       "      <td>2000</td>\n",
       "      <td>3</td>\n",
       "      <td>2000-03-01</td>\n",
       "      <td>640922</td>\n",
       "      <td>27.2</td>\n",
       "    </tr>\n",
       "    <tr>\n",
       "      <th>217</th>\n",
       "      <td>237.8</td>\n",
       "      <td>18</td>\n",
       "      <td>2000</td>\n",
       "      <td>2</td>\n",
       "      <td>2000-02-01</td>\n",
       "      <td>601281</td>\n",
       "      <td>26.6</td>\n",
       "    </tr>\n",
       "  </tbody>\n",
       "</table>\n",
       "</div>"
      ],
      "text/plain": [
       "     total_rainfall  no_of_rainy_days  year  month_of_year       date  \\\n",
       "226           385.7                21  2000             11 2000-11-01   \n",
       "219           311.6                20  2000              4 2000-04-01   \n",
       "216           275.2                14  2000              1 2000-01-01   \n",
       "218           238.3                15  2000              3 2000-03-01   \n",
       "217           237.8                18  2000              2 2000-02-01   \n",
       "\n",
       "     total_visitor_inbound  mean_temp  \n",
       "226                 625618       27.3  \n",
       "219                 636970       27.5  \n",
       "216                 637852       26.3  \n",
       "218                 640922       27.2  \n",
       "217                 601281       26.6  "
      ]
     },
     "execution_count": 47,
     "metadata": {},
     "output_type": "execute_result"
    }
   ],
   "source": [
    "#top 5 month with highest total rainfall in 2000\n",
    "new_pd2[new_pd2['year']==2000].sort_values(by='total_rainfall', ascending=False).head()"
   ]
  },
  {
   "cell_type": "code",
   "execution_count": 48,
   "metadata": {},
   "outputs": [
    {
     "name": "stdout",
     "output_type": "stream",
     "text": [
      "     total_rainfall  no_of_rainy_days    year  month_of_year       date  \\\n",
      "226           385.7              21.0  2000.0           11.0 2000-11-01   \n",
      "\n",
      "     total_visitor_inbound  mean_temp  \n",
      "226               625618.0       27.3  \n"
     ]
    }
   ],
   "source": [
    "#top month with highest total rainfall in 2000\n",
    "df_2000 = new_pd2.mask(new_pd2['year']!=2000).dropna()\n",
    "print(df_2000[df_2000['total_rainfall']== df_2000['total_rainfall'].max()])"
   ]
  },
  {
   "cell_type": "code",
   "execution_count": 49,
   "metadata": {},
   "outputs": [
    {
     "data": {
      "text/html": [
       "<div>\n",
       "<style scoped>\n",
       "    .dataframe tbody tr th:only-of-type {\n",
       "        vertical-align: middle;\n",
       "    }\n",
       "\n",
       "    .dataframe tbody tr th {\n",
       "        vertical-align: top;\n",
       "    }\n",
       "\n",
       "    .dataframe thead th {\n",
       "        text-align: right;\n",
       "    }\n",
       "</style>\n",
       "<table border=\"1\" class=\"dataframe\">\n",
       "  <thead>\n",
       "    <tr style=\"text-align: right;\">\n",
       "      <th></th>\n",
       "      <th>total_rainfall</th>\n",
       "      <th>no_of_rainy_days</th>\n",
       "      <th>year</th>\n",
       "      <th>month_of_year</th>\n",
       "      <th>date</th>\n",
       "      <th>total_visitor_inbound</th>\n",
       "      <th>mean_temp</th>\n",
       "    </tr>\n",
       "  </thead>\n",
       "  <tbody>\n",
       "    <tr>\n",
       "      <th>342</th>\n",
       "      <td>298.5</td>\n",
       "      <td>18</td>\n",
       "      <td>2010</td>\n",
       "      <td>7</td>\n",
       "      <td>2010-07-01</td>\n",
       "      <td>1095047</td>\n",
       "      <td>27.7</td>\n",
       "    </tr>\n",
       "    <tr>\n",
       "      <th>346</th>\n",
       "      <td>278.8</td>\n",
       "      <td>21</td>\n",
       "      <td>2010</td>\n",
       "      <td>11</td>\n",
       "      <td>2010-11-01</td>\n",
       "      <td>964170</td>\n",
       "      <td>27.4</td>\n",
       "    </tr>\n",
       "    <tr>\n",
       "      <th>341</th>\n",
       "      <td>240.5</td>\n",
       "      <td>19</td>\n",
       "      <td>2010</td>\n",
       "      <td>6</td>\n",
       "      <td>2010-06-01</td>\n",
       "      <td>951032</td>\n",
       "      <td>28.3</td>\n",
       "    </tr>\n",
       "    <tr>\n",
       "      <th>338</th>\n",
       "      <td>238.0</td>\n",
       "      <td>11</td>\n",
       "      <td>2010</td>\n",
       "      <td>3</td>\n",
       "      <td>2010-03-01</td>\n",
       "      <td>928903</td>\n",
       "      <td>28.6</td>\n",
       "    </tr>\n",
       "    <tr>\n",
       "      <th>347</th>\n",
       "      <td>181.4</td>\n",
       "      <td>14</td>\n",
       "      <td>2010</td>\n",
       "      <td>12</td>\n",
       "      <td>2010-12-01</td>\n",
       "      <td>1127581</td>\n",
       "      <td>26.8</td>\n",
       "    </tr>\n",
       "  </tbody>\n",
       "</table>\n",
       "</div>"
      ],
      "text/plain": [
       "     total_rainfall  no_of_rainy_days  year  month_of_year       date  \\\n",
       "342           298.5                18  2010              7 2010-07-01   \n",
       "346           278.8                21  2010             11 2010-11-01   \n",
       "341           240.5                19  2010              6 2010-06-01   \n",
       "338           238.0                11  2010              3 2010-03-01   \n",
       "347           181.4                14  2010             12 2010-12-01   \n",
       "\n",
       "     total_visitor_inbound  mean_temp  \n",
       "342                1095047       27.7  \n",
       "346                 964170       27.4  \n",
       "341                 951032       28.3  \n",
       "338                 928903       28.6  \n",
       "347                1127581       26.8  "
      ]
     },
     "execution_count": 49,
     "metadata": {},
     "output_type": "execute_result"
    }
   ],
   "source": [
    "#top 5 month with highest total rainfall in 2010\n",
    "new_pd2[new_pd2['year']==2010].sort_values(by='total_rainfall', ascending=False).head()"
   ]
  },
  {
   "cell_type": "code",
   "execution_count": 50,
   "metadata": {},
   "outputs": [
    {
     "name": "stdout",
     "output_type": "stream",
     "text": [
      "     total_rainfall  no_of_rainy_days    year  month_of_year       date  \\\n",
      "342           298.5              18.0  2010.0            7.0 2010-07-01   \n",
      "\n",
      "     total_visitor_inbound  mean_temp  \n",
      "342              1095047.0       27.7  \n"
     ]
    }
   ],
   "source": [
    "#top month with highest total rainfall in 2010\n",
    "df_2010 = new_pd2.mask(new_pd2['year']!=2010).dropna()\n",
    "print(df_2010[df_2010['total_rainfall']== df_2010['total_rainfall'].max()])"
   ]
  },
  {
   "cell_type": "code",
   "execution_count": 51,
   "metadata": {},
   "outputs": [
    {
     "data": {
      "text/html": [
       "<div>\n",
       "<style scoped>\n",
       "    .dataframe tbody tr th:only-of-type {\n",
       "        vertical-align: middle;\n",
       "    }\n",
       "\n",
       "    .dataframe tbody tr th {\n",
       "        vertical-align: top;\n",
       "    }\n",
       "\n",
       "    .dataframe thead th {\n",
       "        text-align: right;\n",
       "    }\n",
       "</style>\n",
       "<table border=\"1\" class=\"dataframe\">\n",
       "  <thead>\n",
       "    <tr style=\"text-align: right;\">\n",
       "      <th></th>\n",
       "      <th>total_rainfall</th>\n",
       "      <th>no_of_rainy_days</th>\n",
       "      <th>year</th>\n",
       "      <th>month_of_year</th>\n",
       "      <th>date</th>\n",
       "      <th>total_visitor_inbound</th>\n",
       "      <th>mean_temp</th>\n",
       "    </tr>\n",
       "  </thead>\n",
       "  <tbody>\n",
       "    <tr>\n",
       "      <th>460</th>\n",
       "      <td>255.6</td>\n",
       "      <td>16</td>\n",
       "      <td>2020</td>\n",
       "      <td>5</td>\n",
       "      <td>2020-05-01</td>\n",
       "      <td>880</td>\n",
       "      <td>28.9</td>\n",
       "    </tr>\n",
       "    <tr>\n",
       "      <th>467</th>\n",
       "      <td>253.2</td>\n",
       "      <td>20</td>\n",
       "      <td>2020</td>\n",
       "      <td>12</td>\n",
       "      <td>2020-12-01</td>\n",
       "      <td>24170</td>\n",
       "      <td>27.2</td>\n",
       "    </tr>\n",
       "    <tr>\n",
       "      <th>461</th>\n",
       "      <td>233.8</td>\n",
       "      <td>21</td>\n",
       "      <td>2020</td>\n",
       "      <td>6</td>\n",
       "      <td>2020-06-01</td>\n",
       "      <td>2171</td>\n",
       "      <td>28.1</td>\n",
       "    </tr>\n",
       "    <tr>\n",
       "      <th>466</th>\n",
       "      <td>220.6</td>\n",
       "      <td>19</td>\n",
       "      <td>2020</td>\n",
       "      <td>11</td>\n",
       "      <td>2020-11-01</td>\n",
       "      <td>14749</td>\n",
       "      <td>27.2</td>\n",
       "    </tr>\n",
       "    <tr>\n",
       "      <th>459</th>\n",
       "      <td>188.0</td>\n",
       "      <td>12</td>\n",
       "      <td>2020</td>\n",
       "      <td>4</td>\n",
       "      <td>2020-04-01</td>\n",
       "      <td>750</td>\n",
       "      <td>28.9</td>\n",
       "    </tr>\n",
       "  </tbody>\n",
       "</table>\n",
       "</div>"
      ],
      "text/plain": [
       "     total_rainfall  no_of_rainy_days  year  month_of_year       date  \\\n",
       "460           255.6                16  2020              5 2020-05-01   \n",
       "467           253.2                20  2020             12 2020-12-01   \n",
       "461           233.8                21  2020              6 2020-06-01   \n",
       "466           220.6                19  2020             11 2020-11-01   \n",
       "459           188.0                12  2020              4 2020-04-01   \n",
       "\n",
       "     total_visitor_inbound  mean_temp  \n",
       "460                    880       28.9  \n",
       "467                  24170       27.2  \n",
       "461                   2171       28.1  \n",
       "466                  14749       27.2  \n",
       "459                    750       28.9  "
      ]
     },
     "execution_count": 51,
     "metadata": {},
     "output_type": "execute_result"
    }
   ],
   "source": [
    "#top 5 month with highest total rainfall in 2020\n",
    "new_pd2[new_pd2['year']==2020].sort_values(by='total_rainfall', ascending=False).head()"
   ]
  },
  {
   "cell_type": "code",
   "execution_count": 52,
   "metadata": {},
   "outputs": [
    {
     "name": "stdout",
     "output_type": "stream",
     "text": [
      "     total_rainfall  no_of_rainy_days    year  month_of_year       date  \\\n",
      "460           255.6              16.0  2020.0            5.0 2020-05-01   \n",
      "\n",
      "     total_visitor_inbound  mean_temp  \n",
      "460                  880.0       28.9  \n"
     ]
    }
   ],
   "source": [
    "#top month with highest total rainfall in 2020\n",
    "df_2020 = new_pd2.mask(new_pd2['year']!=2020).dropna()\n",
    "print(df_2020[df_2020['total_rainfall']== df_2020['total_rainfall'].max()])"
   ]
  },
  {
   "cell_type": "code",
   "execution_count": 85,
   "metadata": {},
   "outputs": [
    {
     "data": {
      "text/html": [
       "<div>\n",
       "<style scoped>\n",
       "    .dataframe tbody tr th:only-of-type {\n",
       "        vertical-align: middle;\n",
       "    }\n",
       "\n",
       "    .dataframe tbody tr th {\n",
       "        vertical-align: top;\n",
       "    }\n",
       "\n",
       "    .dataframe thead th {\n",
       "        text-align: right;\n",
       "    }\n",
       "</style>\n",
       "<table border=\"1\" class=\"dataframe\">\n",
       "  <thead>\n",
       "    <tr style=\"text-align: right;\">\n",
       "      <th></th>\n",
       "      <th>total_rainfall</th>\n",
       "      <th>no_of_rainy_days</th>\n",
       "      <th>year</th>\n",
       "      <th>month_of_year</th>\n",
       "      <th>date</th>\n",
       "      <th>total_visitor_inbound</th>\n",
       "      <th>mean_temp</th>\n",
       "    </tr>\n",
       "  </thead>\n",
       "  <tbody>\n",
       "    <tr>\n",
       "      <th>98</th>\n",
       "      <td>94.2</td>\n",
       "      <td>4</td>\n",
       "      <td>1990</td>\n",
       "      <td>3</td>\n",
       "      <td>1990-03-01</td>\n",
       "      <td>445528</td>\n",
       "      <td>28.2</td>\n",
       "    </tr>\n",
       "    <tr>\n",
       "      <th>97</th>\n",
       "      <td>24.1</td>\n",
       "      <td>8</td>\n",
       "      <td>1990</td>\n",
       "      <td>2</td>\n",
       "      <td>1990-02-01</td>\n",
       "      <td>424670</td>\n",
       "      <td>27.6</td>\n",
       "    </tr>\n",
       "    <tr>\n",
       "      <th>101</th>\n",
       "      <td>112.6</td>\n",
       "      <td>9</td>\n",
       "      <td>1990</td>\n",
       "      <td>6</td>\n",
       "      <td>1990-06-01</td>\n",
       "      <td>409635</td>\n",
       "      <td>28.3</td>\n",
       "    </tr>\n",
       "    <tr>\n",
       "      <th>99</th>\n",
       "      <td>52.4</td>\n",
       "      <td>10</td>\n",
       "      <td>1990</td>\n",
       "      <td>4</td>\n",
       "      <td>1990-04-01</td>\n",
       "      <td>430272</td>\n",
       "      <td>28.5</td>\n",
       "    </tr>\n",
       "    <tr>\n",
       "      <th>100</th>\n",
       "      <td>180.1</td>\n",
       "      <td>11</td>\n",
       "      <td>1990</td>\n",
       "      <td>5</td>\n",
       "      <td>1990-05-01</td>\n",
       "      <td>409797</td>\n",
       "      <td>28.6</td>\n",
       "    </tr>\n",
       "  </tbody>\n",
       "</table>\n",
       "</div>"
      ],
      "text/plain": [
       "     total_rainfall  no_of_rainy_days  year  month_of_year       date  \\\n",
       "98             94.2                 4  1990              3 1990-03-01   \n",
       "97             24.1                 8  1990              2 1990-02-01   \n",
       "101           112.6                 9  1990              6 1990-06-01   \n",
       "99             52.4                10  1990              4 1990-04-01   \n",
       "100           180.1                11  1990              5 1990-05-01   \n",
       "\n",
       "     total_visitor_inbound  mean_temp  \n",
       "98                  445528       28.2  \n",
       "97                  424670       27.6  \n",
       "101                 409635       28.3  \n",
       "99                  430272       28.5  \n",
       "100                 409797       28.6  "
      ]
     },
     "execution_count": 85,
     "metadata": {},
     "output_type": "execute_result"
    }
   ],
   "source": [
    "#top 5 month with lowest no of rainy days in 1990\n",
    "new_pd2[new_pd2['year']==1990].sort_values(by='no_of_rainy_days', ascending=True).head()"
   ]
  },
  {
   "cell_type": "code",
   "execution_count": 54,
   "metadata": {},
   "outputs": [
    {
     "name": "stdout",
     "output_type": "stream",
     "text": [
      "    total_rainfall  no_of_rainy_days    year  month_of_year       date  \\\n",
      "98            94.2               4.0  1990.0            3.0 1990-03-01   \n",
      "\n",
      "    total_visitor_inbound  mean_temp  \n",
      "98               445528.0       28.2  \n"
     ]
    }
   ],
   "source": [
    "#top month with lowest no of rainy days in 1990\n",
    "print(df_1990[df_1990['no_of_rainy_days'] == df_1990['no_of_rainy_days'].min()])"
   ]
  },
  {
   "cell_type": "code",
   "execution_count": 55,
   "metadata": {},
   "outputs": [
    {
     "data": {
      "text/html": [
       "<div>\n",
       "<style scoped>\n",
       "    .dataframe tbody tr th:only-of-type {\n",
       "        vertical-align: middle;\n",
       "    }\n",
       "\n",
       "    .dataframe tbody tr th {\n",
       "        vertical-align: top;\n",
       "    }\n",
       "\n",
       "    .dataframe thead th {\n",
       "        text-align: right;\n",
       "    }\n",
       "</style>\n",
       "<table border=\"1\" class=\"dataframe\">\n",
       "  <thead>\n",
       "    <tr style=\"text-align: right;\">\n",
       "      <th></th>\n",
       "      <th>total_rainfall</th>\n",
       "      <th>no_of_rainy_days</th>\n",
       "      <th>year</th>\n",
       "      <th>month_of_year</th>\n",
       "      <th>date</th>\n",
       "      <th>total_visitor_inbound</th>\n",
       "      <th>mean_temp</th>\n",
       "    </tr>\n",
       "  </thead>\n",
       "  <tbody>\n",
       "    <tr>\n",
       "      <th>220</th>\n",
       "      <td>96.8</td>\n",
       "      <td>10</td>\n",
       "      <td>2000</td>\n",
       "      <td>5</td>\n",
       "      <td>2000-05-01</td>\n",
       "      <td>595838</td>\n",
       "      <td>28.6</td>\n",
       "    </tr>\n",
       "    <tr>\n",
       "      <th>222</th>\n",
       "      <td>116.1</td>\n",
       "      <td>12</td>\n",
       "      <td>2000</td>\n",
       "      <td>7</td>\n",
       "      <td>2000-07-01</td>\n",
       "      <td>707413</td>\n",
       "      <td>28.1</td>\n",
       "    </tr>\n",
       "    <tr>\n",
       "      <th>224</th>\n",
       "      <td>81.1</td>\n",
       "      <td>12</td>\n",
       "      <td>2000</td>\n",
       "      <td>9</td>\n",
       "      <td>2000-09-01</td>\n",
       "      <td>612708</td>\n",
       "      <td>28.0</td>\n",
       "    </tr>\n",
       "    <tr>\n",
       "      <th>216</th>\n",
       "      <td>275.2</td>\n",
       "      <td>14</td>\n",
       "      <td>2000</td>\n",
       "      <td>1</td>\n",
       "      <td>2000-01-01</td>\n",
       "      <td>637852</td>\n",
       "      <td>26.3</td>\n",
       "    </tr>\n",
       "    <tr>\n",
       "      <th>225</th>\n",
       "      <td>120.9</td>\n",
       "      <td>14</td>\n",
       "      <td>2000</td>\n",
       "      <td>10</td>\n",
       "      <td>2000-10-01</td>\n",
       "      <td>636185</td>\n",
       "      <td>27.8</td>\n",
       "    </tr>\n",
       "  </tbody>\n",
       "</table>\n",
       "</div>"
      ],
      "text/plain": [
       "     total_rainfall  no_of_rainy_days  year  month_of_year       date  \\\n",
       "220            96.8                10  2000              5 2000-05-01   \n",
       "222           116.1                12  2000              7 2000-07-01   \n",
       "224            81.1                12  2000              9 2000-09-01   \n",
       "216           275.2                14  2000              1 2000-01-01   \n",
       "225           120.9                14  2000             10 2000-10-01   \n",
       "\n",
       "     total_visitor_inbound  mean_temp  \n",
       "220                 595838       28.6  \n",
       "222                 707413       28.1  \n",
       "224                 612708       28.0  \n",
       "216                 637852       26.3  \n",
       "225                 636185       27.8  "
      ]
     },
     "execution_count": 55,
     "metadata": {},
     "output_type": "execute_result"
    }
   ],
   "source": [
    "#top 5 month with lowest no of rainy days in 2000\n",
    "new_pd2[new_pd2['year']==2000].sort_values(by='no_of_rainy_days', ascending=True).head()"
   ]
  },
  {
   "cell_type": "code",
   "execution_count": 86,
   "metadata": {},
   "outputs": [
    {
     "name": "stdout",
     "output_type": "stream",
     "text": [
      "     total_rainfall  no_of_rainy_days    year  month_of_year       date  \\\n",
      "220            96.8              10.0  2000.0            5.0 2000-05-01   \n",
      "\n",
      "     total_visitor_inbound  mean_temp  \n",
      "220               595838.0       28.6  \n"
     ]
    }
   ],
   "source": [
    "#top month with lowest no of rainy days in 2000\n",
    "print(df_2000[df_2000['no_of_rainy_days'] == df_2000['no_of_rainy_days'].min()])"
   ]
  },
  {
   "cell_type": "code",
   "execution_count": 57,
   "metadata": {},
   "outputs": [
    {
     "data": {
      "text/html": [
       "<div>\n",
       "<style scoped>\n",
       "    .dataframe tbody tr th:only-of-type {\n",
       "        vertical-align: middle;\n",
       "    }\n",
       "\n",
       "    .dataframe tbody tr th {\n",
       "        vertical-align: top;\n",
       "    }\n",
       "\n",
       "    .dataframe thead th {\n",
       "        text-align: right;\n",
       "    }\n",
       "</style>\n",
       "<table border=\"1\" class=\"dataframe\">\n",
       "  <thead>\n",
       "    <tr style=\"text-align: right;\">\n",
       "      <th></th>\n",
       "      <th>total_rainfall</th>\n",
       "      <th>no_of_rainy_days</th>\n",
       "      <th>year</th>\n",
       "      <th>month_of_year</th>\n",
       "      <th>date</th>\n",
       "      <th>total_visitor_inbound</th>\n",
       "      <th>mean_temp</th>\n",
       "    </tr>\n",
       "  </thead>\n",
       "  <tbody>\n",
       "    <tr>\n",
       "      <th>337</th>\n",
       "      <td>6.3</td>\n",
       "      <td>4</td>\n",
       "      <td>2010</td>\n",
       "      <td>2</td>\n",
       "      <td>2010-02-01</td>\n",
       "      <td>857387</td>\n",
       "      <td>28.9</td>\n",
       "    </tr>\n",
       "    <tr>\n",
       "      <th>336</th>\n",
       "      <td>69.5</td>\n",
       "      <td>10</td>\n",
       "      <td>2010</td>\n",
       "      <td>1</td>\n",
       "      <td>2010-01-01</td>\n",
       "      <td>908495</td>\n",
       "      <td>27.5</td>\n",
       "    </tr>\n",
       "    <tr>\n",
       "      <th>338</th>\n",
       "      <td>238.0</td>\n",
       "      <td>11</td>\n",
       "      <td>2010</td>\n",
       "      <td>3</td>\n",
       "      <td>2010-03-01</td>\n",
       "      <td>928903</td>\n",
       "      <td>28.6</td>\n",
       "    </tr>\n",
       "    <tr>\n",
       "      <th>344</th>\n",
       "      <td>121.5</td>\n",
       "      <td>13</td>\n",
       "      <td>2010</td>\n",
       "      <td>9</td>\n",
       "      <td>2010-09-01</td>\n",
       "      <td>947585</td>\n",
       "      <td>28.0</td>\n",
       "    </tr>\n",
       "    <tr>\n",
       "      <th>347</th>\n",
       "      <td>181.4</td>\n",
       "      <td>14</td>\n",
       "      <td>2010</td>\n",
       "      <td>12</td>\n",
       "      <td>2010-12-01</td>\n",
       "      <td>1127581</td>\n",
       "      <td>26.8</td>\n",
       "    </tr>\n",
       "  </tbody>\n",
       "</table>\n",
       "</div>"
      ],
      "text/plain": [
       "     total_rainfall  no_of_rainy_days  year  month_of_year       date  \\\n",
       "337             6.3                 4  2010              2 2010-02-01   \n",
       "336            69.5                10  2010              1 2010-01-01   \n",
       "338           238.0                11  2010              3 2010-03-01   \n",
       "344           121.5                13  2010              9 2010-09-01   \n",
       "347           181.4                14  2010             12 2010-12-01   \n",
       "\n",
       "     total_visitor_inbound  mean_temp  \n",
       "337                 857387       28.9  \n",
       "336                 908495       27.5  \n",
       "338                 928903       28.6  \n",
       "344                 947585       28.0  \n",
       "347                1127581       26.8  "
      ]
     },
     "execution_count": 57,
     "metadata": {},
     "output_type": "execute_result"
    }
   ],
   "source": [
    "#top 5 month with lowest no of rainy days in 2010\n",
    "new_pd2[new_pd2['year']==2010].sort_values(by='no_of_rainy_days', ascending=True).head()"
   ]
  },
  {
   "cell_type": "code",
   "execution_count": 87,
   "metadata": {},
   "outputs": [
    {
     "name": "stdout",
     "output_type": "stream",
     "text": [
      "     total_rainfall  no_of_rainy_days    year  month_of_year       date  \\\n",
      "337             6.3               4.0  2010.0            2.0 2010-02-01   \n",
      "\n",
      "     total_visitor_inbound  mean_temp  \n",
      "337               857387.0       28.9  \n"
     ]
    }
   ],
   "source": [
    "#top month with lowest no of rainy days in 2010\n",
    "print(df_2010[df_2010['no_of_rainy_days'] == df_2010['no_of_rainy_days'].min()])"
   ]
  },
  {
   "cell_type": "code",
   "execution_count": 88,
   "metadata": {},
   "outputs": [
    {
     "data": {
      "text/html": [
       "<div>\n",
       "<style scoped>\n",
       "    .dataframe tbody tr th:only-of-type {\n",
       "        vertical-align: middle;\n",
       "    }\n",
       "\n",
       "    .dataframe tbody tr th {\n",
       "        vertical-align: top;\n",
       "    }\n",
       "\n",
       "    .dataframe thead th {\n",
       "        text-align: right;\n",
       "    }\n",
       "</style>\n",
       "<table border=\"1\" class=\"dataframe\">\n",
       "  <thead>\n",
       "    <tr style=\"text-align: right;\">\n",
       "      <th></th>\n",
       "      <th>total_rainfall</th>\n",
       "      <th>no_of_rainy_days</th>\n",
       "      <th>year</th>\n",
       "      <th>month_of_year</th>\n",
       "      <th>date</th>\n",
       "      <th>total_visitor_inbound</th>\n",
       "      <th>mean_temp</th>\n",
       "    </tr>\n",
       "  </thead>\n",
       "  <tbody>\n",
       "    <tr>\n",
       "      <th>456</th>\n",
       "      <td>88.4</td>\n",
       "      <td>6</td>\n",
       "      <td>2020</td>\n",
       "      <td>1</td>\n",
       "      <td>2020-01-01</td>\n",
       "      <td>1688102</td>\n",
       "      <td>27.7</td>\n",
       "    </tr>\n",
       "    <tr>\n",
       "      <th>457</th>\n",
       "      <td>65.0</td>\n",
       "      <td>8</td>\n",
       "      <td>2020</td>\n",
       "      <td>2</td>\n",
       "      <td>2020-02-01</td>\n",
       "      <td>732966</td>\n",
       "      <td>27.9</td>\n",
       "    </tr>\n",
       "    <tr>\n",
       "      <th>458</th>\n",
       "      <td>108.8</td>\n",
       "      <td>8</td>\n",
       "      <td>2020</td>\n",
       "      <td>3</td>\n",
       "      <td>2020-03-01</td>\n",
       "      <td>240001</td>\n",
       "      <td>28.6</td>\n",
       "    </tr>\n",
       "    <tr>\n",
       "      <th>459</th>\n",
       "      <td>188.0</td>\n",
       "      <td>12</td>\n",
       "      <td>2020</td>\n",
       "      <td>4</td>\n",
       "      <td>2020-04-01</td>\n",
       "      <td>750</td>\n",
       "      <td>28.9</td>\n",
       "    </tr>\n",
       "    <tr>\n",
       "      <th>463</th>\n",
       "      <td>103.4</td>\n",
       "      <td>12</td>\n",
       "      <td>2020</td>\n",
       "      <td>8</td>\n",
       "      <td>2020-08-01</td>\n",
       "      <td>8912</td>\n",
       "      <td>28.3</td>\n",
       "    </tr>\n",
       "  </tbody>\n",
       "</table>\n",
       "</div>"
      ],
      "text/plain": [
       "     total_rainfall  no_of_rainy_days  year  month_of_year       date  \\\n",
       "456            88.4                 6  2020              1 2020-01-01   \n",
       "457            65.0                 8  2020              2 2020-02-01   \n",
       "458           108.8                 8  2020              3 2020-03-01   \n",
       "459           188.0                12  2020              4 2020-04-01   \n",
       "463           103.4                12  2020              8 2020-08-01   \n",
       "\n",
       "     total_visitor_inbound  mean_temp  \n",
       "456                1688102       27.7  \n",
       "457                 732966       27.9  \n",
       "458                 240001       28.6  \n",
       "459                    750       28.9  \n",
       "463                   8912       28.3  "
      ]
     },
     "execution_count": 88,
     "metadata": {},
     "output_type": "execute_result"
    }
   ],
   "source": [
    "#top 5 month with lowest no of rainy days in 2020\n",
    "new_pd2[new_pd2['year']==2020].sort_values(by='no_of_rainy_days', ascending=True).head()"
   ]
  },
  {
   "cell_type": "code",
   "execution_count": 89,
   "metadata": {},
   "outputs": [
    {
     "name": "stdout",
     "output_type": "stream",
     "text": [
      "     total_rainfall  no_of_rainy_days    year  month_of_year       date  \\\n",
      "456            88.4               6.0  2020.0            1.0 2020-01-01   \n",
      "\n",
      "     total_visitor_inbound  mean_temp  \n",
      "456              1688102.0       27.7  \n"
     ]
    }
   ],
   "source": [
    "#top month with lowest no of rainy days in 2020\n",
    "print(df_2020[df_2020['no_of_rainy_days'] == df_2020['no_of_rainy_days'].min()])"
   ]
  },
  {
   "cell_type": "code",
   "execution_count": 90,
   "metadata": {},
   "outputs": [
    {
     "data": {
      "text/html": [
       "<div>\n",
       "<style scoped>\n",
       "    .dataframe tbody tr th:only-of-type {\n",
       "        vertical-align: middle;\n",
       "    }\n",
       "\n",
       "    .dataframe tbody tr th {\n",
       "        vertical-align: top;\n",
       "    }\n",
       "\n",
       "    .dataframe thead th {\n",
       "        text-align: right;\n",
       "    }\n",
       "</style>\n",
       "<table border=\"1\" class=\"dataframe\">\n",
       "  <thead>\n",
       "    <tr style=\"text-align: right;\">\n",
       "      <th></th>\n",
       "      <th>total_rainfall</th>\n",
       "      <th>no_of_rainy_days</th>\n",
       "      <th>year</th>\n",
       "      <th>month_of_year</th>\n",
       "      <th>date</th>\n",
       "      <th>total_visitor_inbound</th>\n",
       "      <th>mean_temp</th>\n",
       "    </tr>\n",
       "  </thead>\n",
       "  <tbody>\n",
       "    <tr>\n",
       "      <th>104</th>\n",
       "      <td>204.5</td>\n",
       "      <td>17</td>\n",
       "      <td>1990</td>\n",
       "      <td>9</td>\n",
       "      <td>1990-09-01</td>\n",
       "      <td>427523</td>\n",
       "      <td>27.2</td>\n",
       "    </tr>\n",
       "    <tr>\n",
       "      <th>106</th>\n",
       "      <td>180.4</td>\n",
       "      <td>17</td>\n",
       "      <td>1990</td>\n",
       "      <td>11</td>\n",
       "      <td>1990-11-01</td>\n",
       "      <td>448573</td>\n",
       "      <td>27.2</td>\n",
       "    </tr>\n",
       "    <tr>\n",
       "      <th>107</th>\n",
       "      <td>201.1</td>\n",
       "      <td>16</td>\n",
       "      <td>1990</td>\n",
       "      <td>12</td>\n",
       "      <td>1990-12-01</td>\n",
       "      <td>488768</td>\n",
       "      <td>26.3</td>\n",
       "    </tr>\n",
       "    <tr>\n",
       "      <th>96</th>\n",
       "      <td>147.4</td>\n",
       "      <td>13</td>\n",
       "      <td>1990</td>\n",
       "      <td>1</td>\n",
       "      <td>1990-01-01</td>\n",
       "      <td>432993</td>\n",
       "      <td>26.2</td>\n",
       "    </tr>\n",
       "    <tr>\n",
       "      <th>103</th>\n",
       "      <td>146.6</td>\n",
       "      <td>13</td>\n",
       "      <td>1990</td>\n",
       "      <td>8</td>\n",
       "      <td>1990-08-01</td>\n",
       "      <td>492544</td>\n",
       "      <td>28.0</td>\n",
       "    </tr>\n",
       "  </tbody>\n",
       "</table>\n",
       "</div>"
      ],
      "text/plain": [
       "     total_rainfall  no_of_rainy_days  year  month_of_year       date  \\\n",
       "104           204.5                17  1990              9 1990-09-01   \n",
       "106           180.4                17  1990             11 1990-11-01   \n",
       "107           201.1                16  1990             12 1990-12-01   \n",
       "96            147.4                13  1990              1 1990-01-01   \n",
       "103           146.6                13  1990              8 1990-08-01   \n",
       "\n",
       "     total_visitor_inbound  mean_temp  \n",
       "104                 427523       27.2  \n",
       "106                 448573       27.2  \n",
       "107                 488768       26.3  \n",
       "96                  432993       26.2  \n",
       "103                 492544       28.0  "
      ]
     },
     "execution_count": 90,
     "metadata": {},
     "output_type": "execute_result"
    }
   ],
   "source": [
    "#top 5 month with high no of rainy days in 1990\n",
    "new_pd2[new_pd2['year']==1990].sort_values(by='no_of_rainy_days', ascending=False).head()"
   ]
  },
  {
   "cell_type": "code",
   "execution_count": 91,
   "metadata": {},
   "outputs": [
    {
     "name": "stdout",
     "output_type": "stream",
     "text": [
      "     total_rainfall  no_of_rainy_days    year  month_of_year       date  \\\n",
      "104           204.5              17.0  1990.0            9.0 1990-09-01   \n",
      "106           180.4              17.0  1990.0           11.0 1990-11-01   \n",
      "\n",
      "     total_visitor_inbound  mean_temp  \n",
      "104               427523.0       27.2  \n",
      "106               448573.0       27.2  \n"
     ]
    }
   ],
   "source": [
    "#top month with high no of rainy days in 1990\n",
    "print(df_1990[df_1990['no_of_rainy_days'] == df_1990['no_of_rainy_days'].max()])"
   ]
  },
  {
   "cell_type": "code",
   "execution_count": 92,
   "metadata": {},
   "outputs": [
    {
     "data": {
      "text/html": [
       "<div>\n",
       "<style scoped>\n",
       "    .dataframe tbody tr th:only-of-type {\n",
       "        vertical-align: middle;\n",
       "    }\n",
       "\n",
       "    .dataframe tbody tr th {\n",
       "        vertical-align: top;\n",
       "    }\n",
       "\n",
       "    .dataframe thead th {\n",
       "        text-align: right;\n",
       "    }\n",
       "</style>\n",
       "<table border=\"1\" class=\"dataframe\">\n",
       "  <thead>\n",
       "    <tr style=\"text-align: right;\">\n",
       "      <th></th>\n",
       "      <th>total_rainfall</th>\n",
       "      <th>no_of_rainy_days</th>\n",
       "      <th>year</th>\n",
       "      <th>month_of_year</th>\n",
       "      <th>date</th>\n",
       "      <th>total_visitor_inbound</th>\n",
       "      <th>mean_temp</th>\n",
       "    </tr>\n",
       "  </thead>\n",
       "  <tbody>\n",
       "    <tr>\n",
       "      <th>226</th>\n",
       "      <td>385.7</td>\n",
       "      <td>21</td>\n",
       "      <td>2000</td>\n",
       "      <td>11</td>\n",
       "      <td>2000-11-01</td>\n",
       "      <td>625618</td>\n",
       "      <td>27.3</td>\n",
       "    </tr>\n",
       "    <tr>\n",
       "      <th>219</th>\n",
       "      <td>311.6</td>\n",
       "      <td>20</td>\n",
       "      <td>2000</td>\n",
       "      <td>4</td>\n",
       "      <td>2000-04-01</td>\n",
       "      <td>636970</td>\n",
       "      <td>27.5</td>\n",
       "    </tr>\n",
       "    <tr>\n",
       "      <th>217</th>\n",
       "      <td>237.8</td>\n",
       "      <td>18</td>\n",
       "      <td>2000</td>\n",
       "      <td>2</td>\n",
       "      <td>2000-02-01</td>\n",
       "      <td>601281</td>\n",
       "      <td>26.6</td>\n",
       "    </tr>\n",
       "    <tr>\n",
       "      <th>223</th>\n",
       "      <td>113.5</td>\n",
       "      <td>18</td>\n",
       "      <td>2000</td>\n",
       "      <td>8</td>\n",
       "      <td>2000-08-01</td>\n",
       "      <td>695965</td>\n",
       "      <td>27.5</td>\n",
       "    </tr>\n",
       "    <tr>\n",
       "      <th>227</th>\n",
       "      <td>236.0</td>\n",
       "      <td>18</td>\n",
       "      <td>2000</td>\n",
       "      <td>12</td>\n",
       "      <td>2000-12-01</td>\n",
       "      <td>691639</td>\n",
       "      <td>27.0</td>\n",
       "    </tr>\n",
       "  </tbody>\n",
       "</table>\n",
       "</div>"
      ],
      "text/plain": [
       "     total_rainfall  no_of_rainy_days  year  month_of_year       date  \\\n",
       "226           385.7                21  2000             11 2000-11-01   \n",
       "219           311.6                20  2000              4 2000-04-01   \n",
       "217           237.8                18  2000              2 2000-02-01   \n",
       "223           113.5                18  2000              8 2000-08-01   \n",
       "227           236.0                18  2000             12 2000-12-01   \n",
       "\n",
       "     total_visitor_inbound  mean_temp  \n",
       "226                 625618       27.3  \n",
       "219                 636970       27.5  \n",
       "217                 601281       26.6  \n",
       "223                 695965       27.5  \n",
       "227                 691639       27.0  "
      ]
     },
     "execution_count": 92,
     "metadata": {},
     "output_type": "execute_result"
    }
   ],
   "source": [
    "#top 5 month with high no of rainy days in 2000\n",
    "new_pd2[new_pd2['year']==2000].sort_values(by='no_of_rainy_days', ascending=False).head()"
   ]
  },
  {
   "cell_type": "code",
   "execution_count": 93,
   "metadata": {},
   "outputs": [
    {
     "name": "stdout",
     "output_type": "stream",
     "text": [
      "     total_rainfall  no_of_rainy_days    year  month_of_year       date  \\\n",
      "226           385.7              21.0  2000.0           11.0 2000-11-01   \n",
      "\n",
      "     total_visitor_inbound  mean_temp  \n",
      "226               625618.0       27.3  \n"
     ]
    }
   ],
   "source": [
    "#top month with high no of rainy days in 2000\n",
    "print(df_2000[df_2000['no_of_rainy_days'] == df_2000['no_of_rainy_days'].max()])"
   ]
  },
  {
   "cell_type": "code",
   "execution_count": 65,
   "metadata": {},
   "outputs": [
    {
     "data": {
      "text/html": [
       "<div>\n",
       "<style scoped>\n",
       "    .dataframe tbody tr th:only-of-type {\n",
       "        vertical-align: middle;\n",
       "    }\n",
       "\n",
       "    .dataframe tbody tr th {\n",
       "        vertical-align: top;\n",
       "    }\n",
       "\n",
       "    .dataframe thead th {\n",
       "        text-align: right;\n",
       "    }\n",
       "</style>\n",
       "<table border=\"1\" class=\"dataframe\">\n",
       "  <thead>\n",
       "    <tr style=\"text-align: right;\">\n",
       "      <th></th>\n",
       "      <th>total_rainfall</th>\n",
       "      <th>no_of_rainy_days</th>\n",
       "      <th>year</th>\n",
       "      <th>month_of_year</th>\n",
       "      <th>date</th>\n",
       "      <th>total_visitor_inbound</th>\n",
       "      <th>mean_temp</th>\n",
       "    </tr>\n",
       "  </thead>\n",
       "  <tbody>\n",
       "    <tr>\n",
       "      <th>346</th>\n",
       "      <td>278.8</td>\n",
       "      <td>21</td>\n",
       "      <td>2010</td>\n",
       "      <td>11</td>\n",
       "      <td>2010-11-01</td>\n",
       "      <td>964170</td>\n",
       "      <td>27.4</td>\n",
       "    </tr>\n",
       "    <tr>\n",
       "      <th>341</th>\n",
       "      <td>240.5</td>\n",
       "      <td>19</td>\n",
       "      <td>2010</td>\n",
       "      <td>6</td>\n",
       "      <td>2010-06-01</td>\n",
       "      <td>951032</td>\n",
       "      <td>28.3</td>\n",
       "    </tr>\n",
       "    <tr>\n",
       "      <th>339</th>\n",
       "      <td>158.5</td>\n",
       "      <td>18</td>\n",
       "      <td>2010</td>\n",
       "      <td>4</td>\n",
       "      <td>2010-04-01</td>\n",
       "      <td>939013</td>\n",
       "      <td>28.6</td>\n",
       "    </tr>\n",
       "    <tr>\n",
       "      <th>342</th>\n",
       "      <td>298.5</td>\n",
       "      <td>18</td>\n",
       "      <td>2010</td>\n",
       "      <td>7</td>\n",
       "      <td>2010-07-01</td>\n",
       "      <td>1095047</td>\n",
       "      <td>27.7</td>\n",
       "    </tr>\n",
       "    <tr>\n",
       "      <th>340</th>\n",
       "      <td>157.5</td>\n",
       "      <td>17</td>\n",
       "      <td>2010</td>\n",
       "      <td>5</td>\n",
       "      <td>2010-05-01</td>\n",
       "      <td>946676</td>\n",
       "      <td>29.2</td>\n",
       "    </tr>\n",
       "  </tbody>\n",
       "</table>\n",
       "</div>"
      ],
      "text/plain": [
       "     total_rainfall  no_of_rainy_days  year  month_of_year       date  \\\n",
       "346           278.8                21  2010             11 2010-11-01   \n",
       "341           240.5                19  2010              6 2010-06-01   \n",
       "339           158.5                18  2010              4 2010-04-01   \n",
       "342           298.5                18  2010              7 2010-07-01   \n",
       "340           157.5                17  2010              5 2010-05-01   \n",
       "\n",
       "     total_visitor_inbound  mean_temp  \n",
       "346                 964170       27.4  \n",
       "341                 951032       28.3  \n",
       "339                 939013       28.6  \n",
       "342                1095047       27.7  \n",
       "340                 946676       29.2  "
      ]
     },
     "execution_count": 65,
     "metadata": {},
     "output_type": "execute_result"
    }
   ],
   "source": [
    "#top 5 month with high no of rainy days in 2010\n",
    "new_pd2[new_pd2['year']==2010].sort_values(by='no_of_rainy_days', ascending=False).head()"
   ]
  },
  {
   "cell_type": "code",
   "execution_count": 94,
   "metadata": {},
   "outputs": [
    {
     "name": "stdout",
     "output_type": "stream",
     "text": [
      "     total_rainfall  no_of_rainy_days    year  month_of_year       date  \\\n",
      "346           278.8              21.0  2010.0           11.0 2010-11-01   \n",
      "\n",
      "     total_visitor_inbound  mean_temp  \n",
      "346               964170.0       27.4  \n"
     ]
    }
   ],
   "source": [
    "#top month with high no of rainy days in 2010\n",
    "print(df_2010[df_2010['no_of_rainy_days'] == df_2010['no_of_rainy_days'].max()])"
   ]
  },
  {
   "cell_type": "code",
   "execution_count": 95,
   "metadata": {},
   "outputs": [
    {
     "data": {
      "text/html": [
       "<div>\n",
       "<style scoped>\n",
       "    .dataframe tbody tr th:only-of-type {\n",
       "        vertical-align: middle;\n",
       "    }\n",
       "\n",
       "    .dataframe tbody tr th {\n",
       "        vertical-align: top;\n",
       "    }\n",
       "\n",
       "    .dataframe thead th {\n",
       "        text-align: right;\n",
       "    }\n",
       "</style>\n",
       "<table border=\"1\" class=\"dataframe\">\n",
       "  <thead>\n",
       "    <tr style=\"text-align: right;\">\n",
       "      <th></th>\n",
       "      <th>total_rainfall</th>\n",
       "      <th>no_of_rainy_days</th>\n",
       "      <th>year</th>\n",
       "      <th>month_of_year</th>\n",
       "      <th>date</th>\n",
       "      <th>total_visitor_inbound</th>\n",
       "      <th>mean_temp</th>\n",
       "    </tr>\n",
       "  </thead>\n",
       "  <tbody>\n",
       "    <tr>\n",
       "      <th>462</th>\n",
       "      <td>140.8</td>\n",
       "      <td>22</td>\n",
       "      <td>2020</td>\n",
       "      <td>7</td>\n",
       "      <td>2020-07-01</td>\n",
       "      <td>6843</td>\n",
       "      <td>27.9</td>\n",
       "    </tr>\n",
       "    <tr>\n",
       "      <th>461</th>\n",
       "      <td>233.8</td>\n",
       "      <td>21</td>\n",
       "      <td>2020</td>\n",
       "      <td>6</td>\n",
       "      <td>2020-06-01</td>\n",
       "      <td>2171</td>\n",
       "      <td>28.1</td>\n",
       "    </tr>\n",
       "    <tr>\n",
       "      <th>467</th>\n",
       "      <td>253.2</td>\n",
       "      <td>20</td>\n",
       "      <td>2020</td>\n",
       "      <td>12</td>\n",
       "      <td>2020-12-01</td>\n",
       "      <td>24170</td>\n",
       "      <td>27.2</td>\n",
       "    </tr>\n",
       "    <tr>\n",
       "      <th>466</th>\n",
       "      <td>220.6</td>\n",
       "      <td>19</td>\n",
       "      <td>2020</td>\n",
       "      <td>11</td>\n",
       "      <td>2020-11-01</td>\n",
       "      <td>14749</td>\n",
       "      <td>27.2</td>\n",
       "    </tr>\n",
       "    <tr>\n",
       "      <th>464</th>\n",
       "      <td>150.2</td>\n",
       "      <td>18</td>\n",
       "      <td>2020</td>\n",
       "      <td>9</td>\n",
       "      <td>2020-09-01</td>\n",
       "      <td>9500</td>\n",
       "      <td>27.5</td>\n",
       "    </tr>\n",
       "  </tbody>\n",
       "</table>\n",
       "</div>"
      ],
      "text/plain": [
       "     total_rainfall  no_of_rainy_days  year  month_of_year       date  \\\n",
       "462           140.8                22  2020              7 2020-07-01   \n",
       "461           233.8                21  2020              6 2020-06-01   \n",
       "467           253.2                20  2020             12 2020-12-01   \n",
       "466           220.6                19  2020             11 2020-11-01   \n",
       "464           150.2                18  2020              9 2020-09-01   \n",
       "\n",
       "     total_visitor_inbound  mean_temp  \n",
       "462                   6843       27.9  \n",
       "461                   2171       28.1  \n",
       "467                  24170       27.2  \n",
       "466                  14749       27.2  \n",
       "464                   9500       27.5  "
      ]
     },
     "execution_count": 95,
     "metadata": {},
     "output_type": "execute_result"
    }
   ],
   "source": [
    "#top 5 month with high no of rainy days in 2020\n",
    "new_pd2[new_pd2['year']==2020].sort_values(by='no_of_rainy_days', ascending=False).head()"
   ]
  },
  {
   "cell_type": "code",
   "execution_count": 96,
   "metadata": {},
   "outputs": [
    {
     "name": "stdout",
     "output_type": "stream",
     "text": [
      "     total_rainfall  no_of_rainy_days    year  month_of_year       date  \\\n",
      "462           140.8              22.0  2020.0            7.0 2020-07-01   \n",
      "\n",
      "     total_visitor_inbound  mean_temp  \n",
      "462                 6843.0       27.9  \n"
     ]
    }
   ],
   "source": [
    "#top month with high no of rainy days in 2020\n",
    "print(df_2020[df_2020['no_of_rainy_days'] == df_2020['no_of_rainy_days'].max()])"
   ]
  },
  {
   "cell_type": "code",
   "execution_count": 69,
   "metadata": {},
   "outputs": [
    {
     "data": {
      "text/plain": [
       "{'whiskers': [<matplotlib.lines.Line2D at 0x16d26c4f0>,\n",
       "  <matplotlib.lines.Line2D at 0x16d26c790>],\n",
       " 'caps': [<matplotlib.lines.Line2D at 0x16d26ca30>,\n",
       "  <matplotlib.lines.Line2D at 0x16d26ccd0>],\n",
       " 'boxes': [<matplotlib.lines.Line2D at 0x16d26c250>],\n",
       " 'medians': [<matplotlib.lines.Line2D at 0x16d26cf70>],\n",
       " 'fliers': [<matplotlib.lines.Line2D at 0x16d27e250>],\n",
       " 'means': []}"
      ]
     },
     "execution_count": 69,
     "metadata": {},
     "output_type": "execute_result"
    },
    {
     "data": {
      "image/png": "[encoded data removed]",
      "text/plain": [
       "<Figure size 1000x700 with 1 Axes>"
      ]
     },
     "metadata": {},
     "output_type": "display_data"
    }
   ],
   "source": [
    "fig = plt.figure(figsize =(10,7))\n",
    "\n",
    "plt.boxplot(new_pd2['total_rainfall'])"
   ]
  },
  {
   "cell_type": "code",
   "execution_count": 70,
   "metadata": {},
   "outputs": [
    {
     "name": "stderr",
     "output_type": "stream",
     "text": [
      "/var/folders/9h/g66bx9554bn3vx164q9t1k3m0000gp/T/ipykernel_54929/2227924142.py:3: UserWarning: \n",
      "\n",
      "`distplot` is a deprecated function and will be removed in seaborn v0.14.0.\n",
      "\n",
      "Please adapt your code to use either `displot` (a figure-level function with\n",
      "similar flexibility) or `histplot` (an axes-level function for histograms).\n",
      "\n",
      "For a guide to updating your code to use the new functions, please see\n",
      "https://gist.github.com/mwaskom/de44147ed2974457ad6372750bbe5751\n",
      "\n",
      "  sns.distplot(new_pd2['total_rainfall'])\n"
     ]
    },
    {
     "data": {
      "text/plain": [
       "<AxesSubplot: xlabel='total_rainfall', ylabel='Density'>"
      ]
     },
     "execution_count": 70,
     "metadata": {},
     "output_type": "execute_result"
    },
    {
     "data": {
      "image/png": "[encoded data removed]",
      "text/plain": [
       "<Figure size 1000x700 with 1 Axes>"
      ]
     },
     "metadata": {},
     "output_type": "display_data"
    }
   ],
   "source": [
    "fig = plt.figure(figsize =(10,7))\n",
    "\n",
    "sns.distplot(new_pd2['total_rainfall'])"
   ]
  },
  {
   "cell_type": "code",
   "execution_count": 71,
   "metadata": {},
   "outputs": [
    {
     "data": {
      "text/plain": [
       "{'whiskers': [<matplotlib.lines.Line2D at 0x16d417700>,\n",
       "  <matplotlib.lines.Line2D at 0x16d4179a0>],\n",
       " 'caps': [<matplotlib.lines.Line2D at 0x16d417c40>,\n",
       "  <matplotlib.lines.Line2D at 0x16d417ee0>],\n",
       " 'boxes': [<matplotlib.lines.Line2D at 0x16d417400>],\n",
       " 'medians': [<matplotlib.lines.Line2D at 0x16d4251c0>],\n",
       " 'fliers': [<matplotlib.lines.Line2D at 0x16d425460>],\n",
       " 'means': []}"
      ]
     },
     "execution_count": 71,
     "metadata": {},
     "output_type": "execute_result"
    },
    {
     "data": {
      "image/png": "[encoded data removed]",
      "text/plain": [
       "<Figure size 1000x700 with 1 Axes>"
      ]
     },
     "metadata": {},
     "output_type": "display_data"
    }
   ],
   "source": [
    "fig = plt.figure(figsize =(10,7))\n",
    "\n",
    "plt.boxplot(new_pd2['no_of_rainy_days'])"
   ]
  },
  {
   "cell_type": "code",
   "execution_count": 72,
   "metadata": {},
   "outputs": [
    {
     "name": "stderr",
     "output_type": "stream",
     "text": [
      "/var/folders/9h/g66bx9554bn3vx164q9t1k3m0000gp/T/ipykernel_54929/4011705013.py:3: UserWarning: \n",
      "\n",
      "`distplot` is a deprecated function and will be removed in seaborn v0.14.0.\n",
      "\n",
      "Please adapt your code to use either `displot` (a figure-level function with\n",
      "similar flexibility) or `histplot` (an axes-level function for histograms).\n",
      "\n",
      "For a guide to updating your code to use the new functions, please see\n",
      "https://gist.github.com/mwaskom/de44147ed2974457ad6372750bbe5751\n",
      "\n",
      "  sns.distplot(new_pd2['no_of_rainy_days'])\n"
     ]
    },
    {
     "data": {
      "text/plain": [
       "<AxesSubplot: xlabel='no_of_rainy_days', ylabel='Density'>"
      ]
     },
     "execution_count": 72,
     "metadata": {},
     "output_type": "execute_result"
    },
    {
     "data": {
      "image/png": "[encoded data removed]",
      "text/plain": [
       "<Figure size 1000x700 with 1 Axes>"
      ]
     },
     "metadata": {},
     "output_type": "display_data"
    }
   ],
   "source": [
    "fig = plt.figure(figsize =(10,7))\n",
    "\n",
    "sns.distplot(new_pd2['no_of_rainy_days'])"
   ]
  },
  {
   "cell_type": "markdown",
   "metadata": {},
   "source": [
    "## Visualize the Data\n",
    "\n",
    "There's not a magic bullet recommendation for the right number of plots to understand a given dataset, but visualizing your data is *always* a good idea. Not only does it allow you to quickly convey your findings (even if you have a non-technical audience), it will often reveal trends in your data that escaped you when you were looking only at numbers. It is important to not only create visualizations, but to **interpret your visualizations** as well.\n",
    "\n",
    "**Every plot should**:\n",
    "- Have a title\n",
    "- Have axis labels\n",
    "- Have appropriate tick labels\n",
    "- Text is legible in a plot\n",
    "- Plots demonstrate meaningful and valid relationships\n",
    "- Have an interpretation to aid understanding\n",
    "\n",
    "Here is an example of what your plots should look like following the above guidelines. Note that while the content of this example is unrelated, the principles of visualization hold:\n",
    "\n",
    "![](https://snag.gy/hCBR1U.jpg)\n",
    "*Interpretation: The above image shows that as we increase our spending on advertising, our sales numbers also tend to increase. There is a positive correlation between advertising spending and sales.*\n",
    "\n",
    "---\n",
    "\n",
    "Here are some prompts to get you started with visualizations. Feel free to add additional visualizations as you see fit:\n",
    "1. Use Seaborn's heatmap with pandas `.corr()` to visualize correlations between all numeric features.\n",
    "    - Heatmaps are generally not appropriate for presentations, and should often be excluded from reports as they can be visually overwhelming. **However**, they can be extremely useful in identify relationships of potential interest (as well as identifying potential collinearity before modeling).\n",
    "    - Please take time to format your output, adding a title. Look through some of the additional arguments and options. (Axis labels aren't really necessary, as long as the title is informative).\n",
    "2. Visualize distributions using histograms. If you have a lot, consider writing a custom function and use subplots.\n",
    "    - *OPTIONAL*: Summarize the underlying distributions of your features (in words & statistics)\n",
    "         - Be thorough in your verbal description of these distributions.\n",
    "         - Be sure to back up these summaries with statistics.\n",
    "         - We generally assume that data we sample from a population will be normally distributed. Do we observe this trend? Explain your answers for each distribution and how you think this will affect estimates made from these data.\n",
    "3. Plot and interpret boxplots. \n",
    "    - Boxplots demonstrate central tendency and spread in variables. In a certain sense, these are somewhat redundant with histograms, but you may be better able to identify clear outliers or differences in IQR, etc.\n",
    "    - Multiple values can be plotted to a single boxplot as long as they are of the same relative scale (meaning they have similar min/max values).\n",
    "    - Each boxplot should:\n",
    "        - Only include variables of a similar scale\n",
    "        - Have clear labels for each variable\n",
    "        - Have appropriate titles and labels\n",
    "4. Plot and interpret scatter plots to view relationships between features. Feel free to write a custom function, and subplot if you'd like. Functions save both time and space.\n",
    "    - Your plots should have:\n",
    "        - Two clearly labeled axes\n",
    "        - A proper title\n",
    "        - Colors and symbols that are clear and unmistakable\n",
    "5. Additional plots of your choosing.\n",
    "    - Are there any additional trends or relationships you haven't explored? Was there something interesting you saw that you'd like to dive further into? It's likely that there are a few more plots you might want to generate to support your narrative and recommendations that you are building toward. **As always, make sure you're interpreting your plots as you go**."
   ]
  },
  {
   "cell_type": "markdown",
   "metadata": {},
   "source": [
    "Some ideas for plots that can be generated:\n",
    "\n",
    "- Plot the histogram of the rainfall data with various bins and comment on the distribution of the data - is it centered, skewed?\n",
    "- Plot the box-and-whiskers plot. Comment on the different quartiles and identify any outliers in the dataset. \n",
    "- Is there a correlation between the number of rainy days and total rainfall in the month? What kind of correlation do your suspect? Does the graph show the same?\n"
   ]
  },
  {
   "cell_type": "code",
   "execution_count": 73,
   "metadata": {},
   "outputs": [
    {
     "name": "stderr",
     "output_type": "stream",
     "text": [
      "/var/folders/9h/g66bx9554bn3vx164q9t1k3m0000gp/T/ipykernel_54929/630128914.py:4: FutureWarning: The default value of numeric_only in DataFrame.corr is deprecated. In a future version, it will default to False. Select only valid columns or specify the value of numeric_only to silence this warning.\n",
      "  corr = new_pd2.corr()\n"
     ]
    },
    {
     "data": {
      "image/png": "[encoded data removed]",
      "text/plain": [
       "<Figure size 2000x1500 with 2 Axes>"
      ]
     },
     "metadata": {},
     "output_type": "display_data"
    }
   ],
   "source": [
    "# Code\n",
    "plt.figure(figsize=(20,15))\n",
    "\n",
    "corr = new_pd2.corr()\n",
    "mask = np.zeros_like(corr)\n",
    "mask[np.triu_indices_from(mask)]=True\n",
    "\n",
    "with sns.axes_style('white'):\n",
    "    sns.heatmap(corr, mask=mask, square=True, annot=True ,vmin=1, linewidths=.5)"
   ]
  },
  {
   "cell_type": "code",
   "execution_count": 74,
   "metadata": {},
   "outputs": [
    {
     "data": {
      "text/plain": [
       "<seaborn.axisgrid.FacetGrid at 0x16d5f4f40>"
      ]
     },
     "execution_count": 74,
     "metadata": {},
     "output_type": "execute_result"
    },
    {
     "data": {
      "image/png": "[encoded data removed]",
      "text/plain": [
       "<Figure size 3611.11x300 with 12 Axes>"
      ]
     },
     "metadata": {},
     "output_type": "display_data"
    }
   ],
   "source": [
    "grid = sns.FacetGrid(new_pd2, col= 'month_of_year')\n",
    "grid.map(plt.hist, 'no_of_rainy_days' ,bins=10)\n",
    "grid.add_legend()\n"
   ]
  },
  {
   "cell_type": "code",
   "execution_count": 75,
   "metadata": {},
   "outputs": [
    {
     "data": {
      "text/plain": [
       "<seaborn.axisgrid.FacetGrid at 0x16db71cd0>"
      ]
     },
     "execution_count": 75,
     "metadata": {},
     "output_type": "execute_result"
    },
    {
     "data": {
      "image/png": "[encoded data removed]",
      "text/plain": [
       "<Figure size 3611.11x300 with 12 Axes>"
      ]
     },
     "metadata": {},
     "output_type": "display_data"
    }
   ],
   "source": [
    "grid = sns.FacetGrid(new_pd2, col= 'month_of_year')\n",
    "grid.map(plt.hist, 'total_rainfall' ,bins=10)\n",
    "grid.add_legend()"
   ]
  },
  {
   "cell_type": "code",
   "execution_count": 76,
   "metadata": {},
   "outputs": [
    {
     "data": {
      "text/plain": [
       "Text(0.5, 0, 'month')"
      ]
     },
     "execution_count": 76,
     "metadata": {},
     "output_type": "execute_result"
    },
    {
     "data": {
      "image/png": "[encoded data removed]",
      "text/plain": [
       "<Figure size 1600x1000 with 1 Axes>"
      ]
     },
     "metadata": {},
     "output_type": "display_data"
    }
   ],
   "source": [
    "avg_count_of_rain_day_in_different_month = new_pd2.groupby('month_of_year')['no_of_rainy_days'].mean()\n",
    "\n",
    "list_of_months =['Jan','Feb','Mar','Apr','May','Jun','Jul','Aug','Sep','Oct','Nov','Dec']\n",
    "plt.figure(figsize =(16,10))\n",
    "\n",
    "plt.axhline(y=13.18 , color='black')\n",
    "plt.bar(list_of_months,avg_count_of_rain_day_in_different_month, color=['grey','blue','blue','grey','grey','blue','grey','grey','blue','grey','red','red'])\n",
    "plt.title('avg no.of rainday in different month')\n",
    "plt.ylabel('avg no. of raindays')\n",
    "plt.xlabel('month')\n",
    "\n"
   ]
  },
  {
   "cell_type": "code",
   "execution_count": 77,
   "metadata": {},
   "outputs": [
    {
     "data": {
      "text/plain": [
       "Text(0.5, 0, 'month')"
      ]
     },
     "execution_count": 77,
     "metadata": {},
     "output_type": "execute_result"
    },
    {
     "data": {
      "image/png": "[encoded data removed]",
      "text/plain": [
       "<Figure size 1600x1000 with 1 Axes>"
      ]
     },
     "metadata": {},
     "output_type": "display_data"
    }
   ],
   "source": [
    "avg_rainfalls_in_different_month = new_pd2.groupby('month_of_year')['total_rainfall'].mean()\n",
    "\n",
    "list_of_months = ['Jan','Feb','Mar','Apr','May','Jun','Jul','Aug','Sep','Oct','Nov','Dec']\n",
    "plt.figure(figsize =(16,10))\n",
    "\n",
    "plt.axhline(y=147 , color='black')\n",
    "plt.bar(list_of_months,avg_rainfalls_in_different_month, color=['grey','blue','grey','grey','grey','blue','grey','grey','blue','grey','red','red'])\n",
    "plt.title('avg rainfall in different month')\n",
    "plt.ylabel('Rainfall in (mm)')\n",
    "plt.xlabel('month')"
   ]
  },
  {
   "cell_type": "code",
   "execution_count": null,
   "metadata": {},
   "outputs": [],
   "source": [
    "\n"
   ]
  },
  {
   "cell_type": "code",
   "execution_count": 78,
   "metadata": {},
   "outputs": [
    {
     "data": {
      "text/plain": [
       "Text(0.5, 0, 'year')"
      ]
     },
     "execution_count": 78,
     "metadata": {},
     "output_type": "execute_result"
    },
    {
     "data": {
      "image/png": "[encoded data removed]",
      "text/plain": [
       "<Figure size 1600x1100 with 1 Axes>"
      ]
     },
     "metadata": {},
     "output_type": "display_data"
    }
   ],
   "source": [
    "sum_of_visitor_each_year=new_pd2.groupby('year')['total_visitor_inbound'].mean()\n",
    "\n",
    "list_of_years =[*range(1982,2023)]\n",
    "plt.figure(figsize =(16,11))\n",
    "\n",
    "\n",
    "plt.bar(list_of_years,sum_of_visitor_each_year)\n",
    "plt.title('number of tourist inbound to singapore yearly')\n",
    "plt.ylabel('number of tourist inbound')\n",
    "plt.xlabel('year')\n"
   ]
  },
  {
   "cell_type": "code",
   "execution_count": 79,
   "metadata": {},
   "outputs": [
    {
     "data": {
      "text/plain": [
       "Text(0.5, 0, 'month')"
      ]
     },
     "execution_count": 79,
     "metadata": {},
     "output_type": "execute_result"
    },
    {
     "data": {
      "image/png": "[encoded data removed]",
      "text/plain": [
       "<Figure size 600x400 with 1 Axes>"
      ]
     },
     "metadata": {},
     "output_type": "display_data"
    }
   ],
   "source": [
    "avg_temp_each_month=new_pd2.groupby('month_of_year')['mean_temp'].mean()\n",
    "\n",
    "month = ['Jan','Feb','Mar','Apr','May','Jun','Jul','Aug','Sep','Oct','Nov','Dec']\n",
    "plt.figure(figsize =(6,4))\n",
    "plt.bar(month,avg_temp_each_month, color=['blue','blue','grey','red','red','red','grey','grey','grey','grey','blue','blue'])\n",
    "plt.title('avg wind temp in singapore on different month')\n",
    "plt.ylabel('temp in degree')\n",
    "plt.xlabel('month')"
   ]
  },
  {
   "cell_type": "code",
   "execution_count": 80,
   "metadata": {},
   "outputs": [
    {
     "data": {
      "text/plain": [
       "Text(0.5, 0, 'month')"
      ]
     },
     "execution_count": 80,
     "metadata": {},
     "output_type": "execute_result"
    },
    {
     "data": {
      "image/png": "[encoded data removed]",
      "text/plain": [
       "<Figure size 600x400 with 1 Axes>"
      ]
     },
     "metadata": {},
     "output_type": "display_data"
    }
   ],
   "source": [
    "sum_of_visitor_each_month=new_pd2.groupby('month_of_year')['total_visitor_inbound'].mean()\n",
    "\n",
    "month = ['Jan','Feb','Mar','Apr','May','Jun','Jul','Aug','Sep','Oct','Nov','Dec']\n",
    "plt.figure(figsize =(6,4))\n",
    "plt.bar(month,sum_of_visitor_each_month, color=['grey','blue','grey','grey','blue','blue','red','red','blue','grey','grey','red'])\n",
    "plt.title('avg number of tourist inbound to singapore in different month')\n",
    "plt.ylabel('number of tourist inbound')\n",
    "plt.xlabel('month')"
   ]
  },
  {
   "cell_type": "code",
   "execution_count": 81,
   "metadata": {},
   "outputs": [
    {
     "data": {
      "text/plain": [
       "Text(0.5, 0, 'year')"
      ]
     },
     "execution_count": 81,
     "metadata": {},
     "output_type": "execute_result"
    },
    {
     "data": {
      "image/png": "[encoded data removed]",
      "text/plain": [
       "<Figure size 1600x1100 with 1 Axes>"
      ]
     },
     "metadata": {},
     "output_type": "display_data"
    }
   ],
   "source": [
    "plt.figure(figsize =(16,11))\n",
    "\n",
    "plt.scatter(new_pd2['year'],new_pd2['total_visitor_inbound'])\n",
    "plt.title('number of tourist inbound to singapore yearly trend')\n",
    "plt.ylabel('number of tourist inbound')\n",
    "plt.xlabel('year')\n"
   ]
  },
  {
   "cell_type": "code",
   "execution_count": 82,
   "metadata": {},
   "outputs": [
    {
     "data": {
      "text/plain": [
       "Text(0.5, 0, 'total_rainfall in mm')"
      ]
     },
     "execution_count": 82,
     "metadata": {},
     "output_type": "execute_result"
    },
    {
     "data": {
      "image/png": "[encoded data removed]",
      "text/plain": [
       "<Figure size 1000x800 with 1 Axes>"
      ]
     },
     "metadata": {},
     "output_type": "display_data"
    }
   ],
   "source": [
    "plt.figure(figsize =(10,8))\n",
    "\n",
    "plt.scatter(new_pd2['total_rainfall'],new_pd2['no_of_rainy_days'])\n",
    "plt.title('')\n",
    "plt.ylabel('rainy day')\n",
    "plt.xlabel('total_rainfall in mm')"
   ]
  },
  {
   "cell_type": "code",
   "execution_count": 83,
   "metadata": {},
   "outputs": [
    {
     "data": {
      "text/plain": [
       "Text(0.5, 9.444444444444438, 'number of rain fall in a month avg=15')"
      ]
     },
     "execution_count": 83,
     "metadata": {},
     "output_type": "execute_result"
    },
    {
     "data": {
      "image/png": "[encoded data removed]",
      "text/plain": [
       "<Figure size 500x500 with 1 Axes>"
      ]
     },
     "metadata": {},
     "output_type": "display_data"
    }
   ],
   "source": [
    "sns.displot(new_pd ,x ='no_of_rainy_days', kde=True, bins=13)\n",
    "plt.ylabel('count of data in whole data')\n",
    "plt.xlabel('number of rain fall in a month avg=15')"
   ]
  },
  {
   "cell_type": "code",
   "execution_count": 84,
   "metadata": {},
   "outputs": [
    {
     "data": {
      "text/plain": [
       "<matplotlib.legend.Legend at 0x16e3797c0>"
      ]
     },
     "execution_count": 84,
     "metadata": {},
     "output_type": "execute_result"
    },
    {
     "data": {
      "image/png": "[encoded data removed]",
      "text/plain": [
       "<Figure size 800x600 with 1 Axes>"
      ]
     },
     "metadata": {},
     "output_type": "display_data"
    }
   ],
   "source": [
    "list_of_months =['Jan','Feb','Mar','Apr','May','Jun','Jul','Aug','Sep','Oct','Nov','Dec']\n",
    "plt.figure(figsize =(8,6))\n",
    "\n",
    "avg_count_of_rain_day_in_different_month = new_pd2.groupby('month_of_year')['no_of_rainy_days'].mean()\n",
    "plt.plot(list_of_months,avg_count_of_rain_day_in_different_month, label='rainfall count',) #color='cyan')\n",
    "\n",
    "avg_rainfalls_in_different_month = new_pd2.groupby('month_of_year')['total_rainfall'].mean()\n",
    "avg_rainfalls_in_different_month=avg_rainfalls_in_different_month/10\n",
    "plt.plot(list_of_months,avg_rainfalls_in_different_month, label='avg rainfall mm/10',) #color='magenta')\n",
    "\n",
    "sum_of_visitor_each_month=new_pd2.groupby('month_of_year')['total_visitor_inbound'].mean()\n",
    "sum_of_visitor_each_month=sum_of_visitor_each_month/40000\n",
    "plt.plot(month,sum_of_visitor_each_month ,label='tourist/40000')\n",
    "\n",
    "avg_temp_each_month=new_pd2.groupby('month_of_year')['mean_temp'].mean()\n",
    "plt.plot(month,avg_temp_each_month,label='avg surface air temp in degree',)\n",
    "\n",
    "\n",
    "plt.title('Overview of the trend observed')\n",
    "plt.ylabel('Occurrence')\n",
    "plt.xlabel('Month')\n",
    "\n",
    "plt.axvline(x= 'Feb', color='black')\n",
    "plt.legend(bbox_to_anchor=(1.05,1),loc='upper left')"
   ]
  },
  {
   "cell_type": "markdown",
   "metadata": {},
   "source": [
    "## Conclusions and Recommendations"
   ]
  },
  {
   "cell_type": "markdown",
   "metadata": {},
   "source": [
    "Tourist who like to come to Singapore for outdoor activites will like to have a good weather and also to be less cworded with people to enjoy the best of all attraction in singapore\n",
    "\n",
    "Trip to outdoor venues such as Universal Stuido, singapore Zoological Garden best to be plan on Feb as the both amount of rainfall and total rainfall is the lowest. also the temp during Feb is considerable cooling compare to other month of the year. additional to that Feb have a lowest number of inbound tourist, it might be due to not school holiday period and chinese new year is around the corner, therefore tourist inbound is lower in Feb\n",
    "\n",
    "For month with higher amount of rainy day, outdoor venues need to plan for more indoor event to attract tourist to come to singpore.Travke agency can do package sale of discount outdoor attractive ticket to attract tourist to singapore"
   ]
  }
 ],
 "metadata": {
  "anaconda-cloud": {},
  "kernelspec": {
   "display_name": "dsi-sg",
   "language": "python",
   "name": "dsi-sg"
  },
  "language_info": {
   "codemirror_mode": {
    "name": "ipython",
    "version": 3
   },
   "file_extension": ".py",
   "mimetype": "text/x-python",
   "name": "python",
   "nbconvert_exporter": "python",
   "pygments_lexer": "ipython3",
   "version": "3.9.13"
  }
 },
 "nbformat": 4,
 "nbformat_minor": 4
}
